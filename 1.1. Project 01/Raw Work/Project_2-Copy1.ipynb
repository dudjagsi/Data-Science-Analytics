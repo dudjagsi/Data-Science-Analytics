{
 "cells": [
  {
   "cell_type": "markdown",
   "metadata": {},
   "source": [
    "# Data Acquisition"
   ]
  },
  {
   "cell_type": "markdown",
   "metadata": {},
   "source": [
    "Install the following necessary packages"
   ]
  },
  {
   "cell_type": "code",
   "execution_count": 1,
   "metadata": {},
   "outputs": [],
   "source": [
    "\n",
    "#pip install pandas\n",
    "#pip install numpy\n",
    "#pip install scipy\n",
    "#pip install yahoo_finance_api2\n",
    "#pip install pandas-datareader\n",
    "#pip install ta\n",
    "#pip install seaborn\n",
    "#pip install sklearn\n",
    "#conda install tensorflow\n"
   ]
  },
  {
   "cell_type": "code",
   "execution_count": 2,
   "metadata": {},
   "outputs": [
    {
     "name": "stdout",
     "output_type": "stream",
     "text": [
      "The history saving thread hit an unexpected error (OperationalError('attempt to write a readonly database')).History will not be written to the database.\n"
     ]
    },
    {
     "data": {
      "text/html": [
       "<div>\n",
       "<style scoped>\n",
       "    .dataframe tbody tr th:only-of-type {\n",
       "        vertical-align: middle;\n",
       "    }\n",
       "\n",
       "    .dataframe tbody tr th {\n",
       "        vertical-align: top;\n",
       "    }\n",
       "\n",
       "    .dataframe thead th {\n",
       "        text-align: right;\n",
       "    }\n",
       "</style>\n",
       "<table border=\"1\" class=\"dataframe\">\n",
       "  <thead>\n",
       "    <tr style=\"text-align: right;\">\n",
       "      <th></th>\n",
       "      <th>ticker</th>\n",
       "    </tr>\n",
       "  </thead>\n",
       "  <tbody>\n",
       "    <tr>\n",
       "      <th>0</th>\n",
       "      <td>RELIANCE.NS</td>\n",
       "    </tr>\n",
       "    <tr>\n",
       "      <th>1</th>\n",
       "      <td>RELIANCE.BO</td>\n",
       "    </tr>\n",
       "    <tr>\n",
       "      <th>2</th>\n",
       "      <td>TCS.NS</td>\n",
       "    </tr>\n",
       "    <tr>\n",
       "      <th>3</th>\n",
       "      <td>TCS.BO</td>\n",
       "    </tr>\n",
       "    <tr>\n",
       "      <th>4</th>\n",
       "      <td>HDFCBANK.NS</td>\n",
       "    </tr>\n",
       "  </tbody>\n",
       "</table>\n",
       "</div>"
      ],
      "text/plain": [
       "        ticker\n",
       "0  RELIANCE.NS\n",
       "1  RELIANCE.BO\n",
       "2       TCS.NS\n",
       "3       TCS.BO\n",
       "4  HDFCBANK.NS"
      ]
     },
     "execution_count": 2,
     "metadata": {},
     "output_type": "execute_result"
    }
   ],
   "source": [
    "import pandas as pd\n",
    "import numpy as np\n",
    "\n",
    "# Importing tickers/Symbols field from the scrapped stockdata\n",
    "\n",
    "df = pd.read_csv('/home/nielit/Desktop/datasample.csv',header=None)\n",
    "df.columns=[\"ticker\"]\n",
    "df.head()"
   ]
  },
  {
   "cell_type": "code",
   "execution_count": 3,
   "metadata": {},
   "outputs": [
    {
     "data": {
      "text/plain": [
       "1981"
      ]
     },
     "execution_count": 3,
     "metadata": {},
     "output_type": "execute_result"
    }
   ],
   "source": [
    "len(df.ticker)"
   ]
  },
  {
   "cell_type": "code",
   "execution_count": 4,
   "metadata": {},
   "outputs": [
    {
     "data": {
      "text/plain": [
       "1980"
      ]
     },
     "execution_count": 4,
     "metadata": {},
     "output_type": "execute_result"
    }
   ],
   "source": [
    "len(df.ticker.unique())"
   ]
  },
  {
   "cell_type": "code",
   "execution_count": 5,
   "metadata": {},
   "outputs": [
    {
     "data": {
      "text/html": [
       "<div>\n",
       "<style scoped>\n",
       "    .dataframe tbody tr th:only-of-type {\n",
       "        vertical-align: middle;\n",
       "    }\n",
       "\n",
       "    .dataframe tbody tr th {\n",
       "        vertical-align: top;\n",
       "    }\n",
       "\n",
       "    .dataframe thead th {\n",
       "        text-align: right;\n",
       "    }\n",
       "</style>\n",
       "<table border=\"1\" class=\"dataframe\">\n",
       "  <thead>\n",
       "    <tr style=\"text-align: right;\">\n",
       "      <th></th>\n",
       "      <th>ticker</th>\n",
       "    </tr>\n",
       "  </thead>\n",
       "  <tbody>\n",
       "    <tr>\n",
       "      <th>300</th>\n",
       "      <td>JINDALSTEL.BO</td>\n",
       "    </tr>\n",
       "  </tbody>\n",
       "</table>\n",
       "</div>"
      ],
      "text/plain": [
       "            ticker\n",
       "300  JINDALSTEL.BO"
      ]
     },
     "execution_count": 5,
     "metadata": {},
     "output_type": "execute_result"
    }
   ],
   "source": [
    "# Check for duplicate values\n",
    "\n",
    "df_dup = df[df.duplicated()]\n",
    "df_dup"
   ]
  },
  {
   "cell_type": "code",
   "execution_count": 6,
   "metadata": {},
   "outputs": [],
   "source": [
    "# Drop the duplicate values\n",
    "\n",
    "df = df.drop(df.index[300])"
   ]
  },
  {
   "cell_type": "code",
   "execution_count": 7,
   "metadata": {},
   "outputs": [],
   "source": [
    "tic = list(df.ticker)"
   ]
  },
  {
   "cell_type": "code",
   "execution_count": 8,
   "metadata": {},
   "outputs": [],
   "source": [
    "# Import necessary packages\n",
    "\n",
    "import pandas_datareader as pdr\n",
    "from datetime import datetime"
   ]
  },
  {
   "cell_type": "code",
   "execution_count": 9,
   "metadata": {},
   "outputs": [],
   "source": [
    "from tqdm import tqdm"
   ]
  },
  {
   "cell_type": "code",
   "execution_count": 10,
   "metadata": {},
   "outputs": [
    {
     "name": "stderr",
     "output_type": "stream",
     "text": [
      "100%|██████████| 1980/1980 [57:10<00:00,  1.24s/it] \n"
     ]
    }
   ],
   "source": [
    "# Collecting the stock market data from open source yahoo finance API for the following stock tickers for past 2 years\n",
    "\n",
    "data = list()\n",
    "for i in tqdm(tic):\n",
    "    try:\n",
    "        data.append(pdr.get_data_yahoo(symbols=i, start=datetime(2018, 1, 2), end=datetime(2019, 12, 31)))\n",
    "    except:\n",
    "        pass"
   ]
  },
  {
   "cell_type": "code",
   "execution_count": 11,
   "metadata": {},
   "outputs": [],
   "source": [
    "for i in range(len(data)):\n",
    "    \n",
    "    data[i]['Symbol'] = tic[i]"
   ]
  },
  {
   "cell_type": "code",
   "execution_count": 12,
   "metadata": {},
   "outputs": [],
   "source": [
    "df = pd.DataFrame(data[0])\n",
    "\n",
    "for i in np.arange(1,len(data)):\n",
    "    df = df.append(data[i])"
   ]
  },
  {
   "cell_type": "code",
   "execution_count": 13,
   "metadata": {},
   "outputs": [
    {
     "data": {
      "text/plain": [
       "High         0\n",
       "Low          0\n",
       "Open         0\n",
       "Close        0\n",
       "Volume       0\n",
       "Adj Close    0\n",
       "Symbol       0\n",
       "dtype: int64"
      ]
     },
     "execution_count": 13,
     "metadata": {},
     "output_type": "execute_result"
    }
   ],
   "source": [
    "df.isnull().sum()"
   ]
  },
  {
   "cell_type": "markdown",
   "metadata": {},
   "source": [
    "Our required dataframe df looks something like this.."
   ]
  },
  {
   "cell_type": "code",
   "execution_count": 14,
   "metadata": {},
   "outputs": [
    {
     "data": {
      "text/html": [
       "<div>\n",
       "<style scoped>\n",
       "    .dataframe tbody tr th:only-of-type {\n",
       "        vertical-align: middle;\n",
       "    }\n",
       "\n",
       "    .dataframe tbody tr th {\n",
       "        vertical-align: top;\n",
       "    }\n",
       "\n",
       "    .dataframe thead th {\n",
       "        text-align: right;\n",
       "    }\n",
       "</style>\n",
       "<table border=\"1\" class=\"dataframe\">\n",
       "  <thead>\n",
       "    <tr style=\"text-align: right;\">\n",
       "      <th></th>\n",
       "      <th>High</th>\n",
       "      <th>Low</th>\n",
       "      <th>Open</th>\n",
       "      <th>Close</th>\n",
       "      <th>Volume</th>\n",
       "      <th>Adj Close</th>\n",
       "      <th>Symbol</th>\n",
       "    </tr>\n",
       "    <tr>\n",
       "      <th>Date</th>\n",
       "      <th></th>\n",
       "      <th></th>\n",
       "      <th></th>\n",
       "      <th></th>\n",
       "      <th></th>\n",
       "      <th></th>\n",
       "      <th></th>\n",
       "    </tr>\n",
       "  </thead>\n",
       "  <tbody>\n",
       "    <tr>\n",
       "      <th>2018-01-02</th>\n",
       "      <td>919.549988</td>\n",
       "      <td>906.400024</td>\n",
       "      <td>913.000000</td>\n",
       "      <td>911.150024</td>\n",
       "      <td>4342815.0</td>\n",
       "      <td>900.578369</td>\n",
       "      <td>RELIANCE.NS</td>\n",
       "    </tr>\n",
       "    <tr>\n",
       "      <th>2018-01-03</th>\n",
       "      <td>926.000000</td>\n",
       "      <td>913.049988</td>\n",
       "      <td>925.000000</td>\n",
       "      <td>914.799988</td>\n",
       "      <td>6175312.0</td>\n",
       "      <td>904.185974</td>\n",
       "      <td>RELIANCE.NS</td>\n",
       "    </tr>\n",
       "    <tr>\n",
       "      <th>2018-01-04</th>\n",
       "      <td>921.799988</td>\n",
       "      <td>915.700012</td>\n",
       "      <td>918.150024</td>\n",
       "      <td>920.299988</td>\n",
       "      <td>4118581.0</td>\n",
       "      <td>909.622131</td>\n",
       "      <td>RELIANCE.NS</td>\n",
       "    </tr>\n",
       "    <tr>\n",
       "      <th>2018-01-05</th>\n",
       "      <td>926.900024</td>\n",
       "      <td>920.250000</td>\n",
       "      <td>921.799988</td>\n",
       "      <td>923.250000</td>\n",
       "      <td>3401905.0</td>\n",
       "      <td>912.537903</td>\n",
       "      <td>RELIANCE.NS</td>\n",
       "    </tr>\n",
       "    <tr>\n",
       "      <th>2018-01-08</th>\n",
       "      <td>931.000000</td>\n",
       "      <td>923.500000</td>\n",
       "      <td>926.099976</td>\n",
       "      <td>928.549988</td>\n",
       "      <td>4035417.0</td>\n",
       "      <td>917.776428</td>\n",
       "      <td>RELIANCE.NS</td>\n",
       "    </tr>\n",
       "  </tbody>\n",
       "</table>\n",
       "</div>"
      ],
      "text/plain": [
       "                  High         Low        Open       Close     Volume  \\\n",
       "Date                                                                    \n",
       "2018-01-02  919.549988  906.400024  913.000000  911.150024  4342815.0   \n",
       "2018-01-03  926.000000  913.049988  925.000000  914.799988  6175312.0   \n",
       "2018-01-04  921.799988  915.700012  918.150024  920.299988  4118581.0   \n",
       "2018-01-05  926.900024  920.250000  921.799988  923.250000  3401905.0   \n",
       "2018-01-08  931.000000  923.500000  926.099976  928.549988  4035417.0   \n",
       "\n",
       "             Adj Close       Symbol  \n",
       "Date                                 \n",
       "2018-01-02  900.578369  RELIANCE.NS  \n",
       "2018-01-03  904.185974  RELIANCE.NS  \n",
       "2018-01-04  909.622131  RELIANCE.NS  \n",
       "2018-01-05  912.537903  RELIANCE.NS  \n",
       "2018-01-08  917.776428  RELIANCE.NS  "
      ]
     },
     "execution_count": 14,
     "metadata": {},
     "output_type": "execute_result"
    }
   ],
   "source": [
    "df.head()"
   ]
  },
  {
   "cell_type": "code",
   "execution_count": 15,
   "metadata": {},
   "outputs": [],
   "source": [
    "# Saving the dataframe in local\n",
    "\n",
    "df.to_csv(\"/home/nielit/Desktop/StockData2.csv\")"
   ]
  },
  {
   "cell_type": "code",
   "execution_count": 16,
   "metadata": {},
   "outputs": [],
   "source": [
    "# Loading the dataframe back from local \n",
    "\n",
    "df_stock = pd.read_csv(\"/home/nielit/Desktop/StockData2.csv\")"
   ]
  },
  {
   "cell_type": "code",
   "execution_count": 22,
   "metadata": {},
   "outputs": [
    {
     "name": "stdout",
     "output_type": "stream",
     "text": [
      "<class 'pandas.core.frame.DataFrame'>\n",
      "RangeIndex: 926833 entries, 0 to 926832\n",
      "Data columns (total 8 columns):\n",
      "Date         926833 non-null object\n",
      "High         926833 non-null float64\n",
      "Low          926833 non-null float64\n",
      "Open         926833 non-null float64\n",
      "Close        926833 non-null float64\n",
      "Volume       926833 non-null float64\n",
      "Adj Close    926833 non-null float64\n",
      "Symbol       926833 non-null object\n",
      "dtypes: float64(6), object(2)\n",
      "memory usage: 56.6+ MB\n"
     ]
    }
   ],
   "source": [
    "# The stock data is in the exact format to store in a database\n",
    "\n",
    "df_stock.info()"
   ]
  },
  {
   "cell_type": "markdown",
   "metadata": {},
   "source": [
    "# Using MongoDB as my database"
   ]
  },
  {
   "cell_type": "code",
   "execution_count": 1,
   "metadata": {},
   "outputs": [
    {
     "name": "stdout",
     "output_type": "stream",
     "text": [
      "Connected successfully!!!\n"
     ]
    }
   ],
   "source": [
    "from pymongo import MongoClient \n",
    "from random import randint\n",
    "try: \n",
    "    client_mongo  = MongoClient() \n",
    "    print(\"Connected successfully!!!\") \n",
    "except:   \n",
    "    print(\"Could not connect to MongoDB\") "
   ]
  },
  {
   "cell_type": "code",
   "execution_count": 6,
   "metadata": {},
   "outputs": [],
   "source": [
    "# Creating a database db and collection stock\n",
    "\n",
    "db = client_mongo.db_6\n",
    "collection = db.stock"
   ]
  },
  {
   "cell_type": "markdown",
   "metadata": {},
   "source": [
    "### Importing the dataset into database using MongoClient"
   ]
  },
  {
   "cell_type": "code",
   "execution_count": 25,
   "metadata": {},
   "outputs": [],
   "source": [
    "for i in df_stock.values:\n",
    "    collection.insert_one({\"Date\":i[0],\"High\":i[1],\"Low\":i[2],\"Open\":i[3],\"Close\":i[4],\"Volume\":i[5],\"Adj Close\":i[6],\"Symbol\":i[7]})"
   ]
  },
  {
   "cell_type": "markdown",
   "metadata": {},
   "source": [
    "The stock data is now stored in MongoDB"
   ]
  },
  {
   "cell_type": "markdown",
   "metadata": {},
   "source": [
    "### Exporting the dataset from MongoClient back here"
   ]
  },
  {
   "cell_type": "code",
   "execution_count": 7,
   "metadata": {},
   "outputs": [
    {
     "data": {
      "text/html": [
       "<div>\n",
       "<style scoped>\n",
       "    .dataframe tbody tr th:only-of-type {\n",
       "        vertical-align: middle;\n",
       "    }\n",
       "\n",
       "    .dataframe tbody tr th {\n",
       "        vertical-align: top;\n",
       "    }\n",
       "\n",
       "    .dataframe thead th {\n",
       "        text-align: right;\n",
       "    }\n",
       "</style>\n",
       "<table border=\"1\" class=\"dataframe\">\n",
       "  <thead>\n",
       "    <tr style=\"text-align: right;\">\n",
       "      <th></th>\n",
       "      <th>Adj Close</th>\n",
       "      <th>Close</th>\n",
       "      <th>Date</th>\n",
       "      <th>High</th>\n",
       "      <th>Low</th>\n",
       "      <th>Open</th>\n",
       "      <th>Symbol</th>\n",
       "      <th>Volume</th>\n",
       "      <th>_id</th>\n",
       "    </tr>\n",
       "  </thead>\n",
       "  <tbody>\n",
       "    <tr>\n",
       "      <th>0</th>\n",
       "      <td>900.578369</td>\n",
       "      <td>911.150024</td>\n",
       "      <td>2018-01-02</td>\n",
       "      <td>919.549988</td>\n",
       "      <td>906.400024</td>\n",
       "      <td>913.000000</td>\n",
       "      <td>RELIANCE.NS</td>\n",
       "      <td>4342815.0</td>\n",
       "      <td>5e1cc8bb2e3f9313fcac3063</td>\n",
       "    </tr>\n",
       "    <tr>\n",
       "      <th>1</th>\n",
       "      <td>904.185974</td>\n",
       "      <td>914.799988</td>\n",
       "      <td>2018-01-03</td>\n",
       "      <td>926.000000</td>\n",
       "      <td>913.049988</td>\n",
       "      <td>925.000000</td>\n",
       "      <td>RELIANCE.NS</td>\n",
       "      <td>6175312.0</td>\n",
       "      <td>5e1cc8bb2e3f9313fcac3064</td>\n",
       "    </tr>\n",
       "    <tr>\n",
       "      <th>2</th>\n",
       "      <td>909.622131</td>\n",
       "      <td>920.299988</td>\n",
       "      <td>2018-01-04</td>\n",
       "      <td>921.799988</td>\n",
       "      <td>915.700012</td>\n",
       "      <td>918.150024</td>\n",
       "      <td>RELIANCE.NS</td>\n",
       "      <td>4118581.0</td>\n",
       "      <td>5e1cc8bb2e3f9313fcac3065</td>\n",
       "    </tr>\n",
       "    <tr>\n",
       "      <th>3</th>\n",
       "      <td>912.537903</td>\n",
       "      <td>923.250000</td>\n",
       "      <td>2018-01-05</td>\n",
       "      <td>926.900024</td>\n",
       "      <td>920.250000</td>\n",
       "      <td>921.799988</td>\n",
       "      <td>RELIANCE.NS</td>\n",
       "      <td>3401905.0</td>\n",
       "      <td>5e1cc8bb2e3f9313fcac3066</td>\n",
       "    </tr>\n",
       "    <tr>\n",
       "      <th>4</th>\n",
       "      <td>917.776428</td>\n",
       "      <td>928.549988</td>\n",
       "      <td>2018-01-08</td>\n",
       "      <td>931.000000</td>\n",
       "      <td>923.500000</td>\n",
       "      <td>926.099976</td>\n",
       "      <td>RELIANCE.NS</td>\n",
       "      <td>4035417.0</td>\n",
       "      <td>5e1cc8bb2e3f9313fcac3067</td>\n",
       "    </tr>\n",
       "  </tbody>\n",
       "</table>\n",
       "</div>"
      ],
      "text/plain": [
       "    Adj Close       Close        Date        High         Low        Open  \\\n",
       "0  900.578369  911.150024  2018-01-02  919.549988  906.400024  913.000000   \n",
       "1  904.185974  914.799988  2018-01-03  926.000000  913.049988  925.000000   \n",
       "2  909.622131  920.299988  2018-01-04  921.799988  915.700012  918.150024   \n",
       "3  912.537903  923.250000  2018-01-05  926.900024  920.250000  921.799988   \n",
       "4  917.776428  928.549988  2018-01-08  931.000000  923.500000  926.099976   \n",
       "\n",
       "        Symbol     Volume                       _id  \n",
       "0  RELIANCE.NS  4342815.0  5e1cc8bb2e3f9313fcac3063  \n",
       "1  RELIANCE.NS  6175312.0  5e1cc8bb2e3f9313fcac3064  \n",
       "2  RELIANCE.NS  4118581.0  5e1cc8bb2e3f9313fcac3065  \n",
       "3  RELIANCE.NS  3401905.0  5e1cc8bb2e3f9313fcac3066  \n",
       "4  RELIANCE.NS  4035417.0  5e1cc8bb2e3f9313fcac3067  "
      ]
     },
     "execution_count": 7,
     "metadata": {},
     "output_type": "execute_result"
    }
   ],
   "source": [
    "df = pd.DataFrame(list(db.stock.find()))\n",
    "df.head()"
   ]
  },
  {
   "cell_type": "code",
   "execution_count": 8,
   "metadata": {},
   "outputs": [
    {
     "data": {
      "text/html": [
       "<div>\n",
       "<style scoped>\n",
       "    .dataframe tbody tr th:only-of-type {\n",
       "        vertical-align: middle;\n",
       "    }\n",
       "\n",
       "    .dataframe tbody tr th {\n",
       "        vertical-align: top;\n",
       "    }\n",
       "\n",
       "    .dataframe thead th {\n",
       "        text-align: right;\n",
       "    }\n",
       "</style>\n",
       "<table border=\"1\" class=\"dataframe\">\n",
       "  <thead>\n",
       "    <tr style=\"text-align: right;\">\n",
       "      <th></th>\n",
       "      <th>High</th>\n",
       "      <th>Low</th>\n",
       "      <th>Open</th>\n",
       "      <th>Close</th>\n",
       "      <th>Volume</th>\n",
       "      <th>Adj Close</th>\n",
       "      <th>Symbol</th>\n",
       "    </tr>\n",
       "    <tr>\n",
       "      <th>Date</th>\n",
       "      <th></th>\n",
       "      <th></th>\n",
       "      <th></th>\n",
       "      <th></th>\n",
       "      <th></th>\n",
       "      <th></th>\n",
       "      <th></th>\n",
       "    </tr>\n",
       "  </thead>\n",
       "  <tbody>\n",
       "    <tr>\n",
       "      <th>2018-01-02</th>\n",
       "      <td>919.549988</td>\n",
       "      <td>906.400024</td>\n",
       "      <td>913.000000</td>\n",
       "      <td>911.150024</td>\n",
       "      <td>4342815.0</td>\n",
       "      <td>900.578369</td>\n",
       "      <td>RELIANCE.NS</td>\n",
       "    </tr>\n",
       "    <tr>\n",
       "      <th>2018-01-03</th>\n",
       "      <td>926.000000</td>\n",
       "      <td>913.049988</td>\n",
       "      <td>925.000000</td>\n",
       "      <td>914.799988</td>\n",
       "      <td>6175312.0</td>\n",
       "      <td>904.185974</td>\n",
       "      <td>RELIANCE.NS</td>\n",
       "    </tr>\n",
       "    <tr>\n",
       "      <th>2018-01-04</th>\n",
       "      <td>921.799988</td>\n",
       "      <td>915.700012</td>\n",
       "      <td>918.150024</td>\n",
       "      <td>920.299988</td>\n",
       "      <td>4118581.0</td>\n",
       "      <td>909.622131</td>\n",
       "      <td>RELIANCE.NS</td>\n",
       "    </tr>\n",
       "    <tr>\n",
       "      <th>2018-01-05</th>\n",
       "      <td>926.900024</td>\n",
       "      <td>920.250000</td>\n",
       "      <td>921.799988</td>\n",
       "      <td>923.250000</td>\n",
       "      <td>3401905.0</td>\n",
       "      <td>912.537903</td>\n",
       "      <td>RELIANCE.NS</td>\n",
       "    </tr>\n",
       "    <tr>\n",
       "      <th>2018-01-08</th>\n",
       "      <td>931.000000</td>\n",
       "      <td>923.500000</td>\n",
       "      <td>926.099976</td>\n",
       "      <td>928.549988</td>\n",
       "      <td>4035417.0</td>\n",
       "      <td>917.776428</td>\n",
       "      <td>RELIANCE.NS</td>\n",
       "    </tr>\n",
       "  </tbody>\n",
       "</table>\n",
       "</div>"
      ],
      "text/plain": [
       "                  High         Low        Open       Close     Volume  \\\n",
       "Date                                                                    \n",
       "2018-01-02  919.549988  906.400024  913.000000  911.150024  4342815.0   \n",
       "2018-01-03  926.000000  913.049988  925.000000  914.799988  6175312.0   \n",
       "2018-01-04  921.799988  915.700012  918.150024  920.299988  4118581.0   \n",
       "2018-01-05  926.900024  920.250000  921.799988  923.250000  3401905.0   \n",
       "2018-01-08  931.000000  923.500000  926.099976  928.549988  4035417.0   \n",
       "\n",
       "             Adj Close       Symbol  \n",
       "Date                                 \n",
       "2018-01-02  900.578369  RELIANCE.NS  \n",
       "2018-01-03  904.185974  RELIANCE.NS  \n",
       "2018-01-04  909.622131  RELIANCE.NS  \n",
       "2018-01-05  912.537903  RELIANCE.NS  \n",
       "2018-01-08  917.776428  RELIANCE.NS  "
      ]
     },
     "execution_count": 8,
     "metadata": {},
     "output_type": "execute_result"
    }
   ],
   "source": [
    "# Reformatting the data back into our desired form from MongoDB\n",
    "\n",
    "df = df.drop(['_id'],axis=1)\n",
    "df = df[['Date','High','Low','Open','Close','Volume','Adj Close','Symbol']]\n",
    "df = df.set_index('Date')\n",
    "df.head()"
   ]
  },
  {
   "cell_type": "code",
   "execution_count": 10,
   "metadata": {},
   "outputs": [
    {
     "name": "stdout",
     "output_type": "stream",
     "text": [
      "<class 'pandas.core.frame.DataFrame'>\n",
      "Index: 926833 entries, 2018-01-02 to 2020-01-01\n",
      "Data columns (total 7 columns):\n",
      "High         926833 non-null float64\n",
      "Low          926833 non-null float64\n",
      "Open         926833 non-null float64\n",
      "Close        926833 non-null float64\n",
      "Volume       926833 non-null float64\n",
      "Adj Close    926833 non-null float64\n",
      "Symbol       926833 non-null object\n",
      "dtypes: float64(6), object(1)\n",
      "memory usage: 56.6+ MB\n"
     ]
    }
   ],
   "source": [
    "df.info()"
   ]
  },
  {
   "cell_type": "code",
   "execution_count": 17,
   "metadata": {},
   "outputs": [
    {
     "name": "stdout",
     "output_type": "stream",
     "text": [
      "There are 1961 Symbols with obervations over 488 days.\n"
     ]
    }
   ],
   "source": [
    "print(\"There are {} Symbols with obervations over {} days.\".format(df.Symbol.unique().size, df.index.unique().size))"
   ]
  },
  {
   "cell_type": "code",
   "execution_count": 11,
   "metadata": {},
   "outputs": [
    {
     "data": {
      "text/plain": [
       "High         0\n",
       "Low          0\n",
       "Open         0\n",
       "Close        0\n",
       "Volume       0\n",
       "Adj Close    0\n",
       "Symbol       0\n",
       "dtype: int64"
      ]
     },
     "execution_count": 11,
     "metadata": {},
     "output_type": "execute_result"
    }
   ],
   "source": [
    "# Check for null values\n",
    "\n",
    "df.isna().sum()"
   ]
  },
  {
   "cell_type": "markdown",
   "metadata": {},
   "source": [
    "Converting the End Of Day data into five seperate time series data frames Open, High, Low, Close and Volume (OHLCV)."
   ]
  },
  {
   "cell_type": "code",
   "execution_count": 12,
   "metadata": {},
   "outputs": [],
   "source": [
    "open_val = df[[\"Symbol\", \"Open\"]].pivot(columns = \"Symbol\", values = \"Open\")\n",
    "high_val = df[[\"Symbol\", \"High\"]].pivot(columns = \"Symbol\", values = \"High\")\n",
    "low_val = df[[\"Symbol\", \"Low\"]].pivot(columns = \"Symbol\", values = \"Low\")\n",
    "close_val = df[[\"Symbol\", \"Close\"]].pivot(columns = \"Symbol\", values = \"Close\")\n",
    "volume = df[[\"Symbol\", \"Volume\"]].pivot(columns = \"Symbol\", values = \"Volume\")"
   ]
  },
  {
   "cell_type": "code",
   "execution_count": 18,
   "metadata": {},
   "outputs": [
    {
     "data": {
      "text/html": [
       "<div>\n",
       "<style scoped>\n",
       "    .dataframe tbody tr th:only-of-type {\n",
       "        vertical-align: middle;\n",
       "    }\n",
       "\n",
       "    .dataframe tbody tr th {\n",
       "        vertical-align: top;\n",
       "    }\n",
       "\n",
       "    .dataframe thead th {\n",
       "        text-align: right;\n",
       "    }\n",
       "</style>\n",
       "<table border=\"1\" class=\"dataframe\">\n",
       "  <thead>\n",
       "    <tr style=\"text-align: right;\">\n",
       "      <th>Symbol</th>\n",
       "      <th>AARTIDRUGS.BO</th>\n",
       "      <th>AARTIDRUGS.NS</th>\n",
       "      <th>AARTIIND.BO</th>\n",
       "      <th>AARTIIND.NS</th>\n",
       "      <th>AARVEEDEN.BO</th>\n",
       "      <th>AARVEEDEN.NS</th>\n",
       "      <th>AAVAS.NS</th>\n",
       "      <th>ABAN.BO</th>\n",
       "      <th>ABAN.NS</th>\n",
       "      <th>ABANSENT.BO</th>\n",
       "      <th>...</th>\n",
       "      <th>ZEEMEDIA.BO</th>\n",
       "      <th>ZEEMEDIA.NS</th>\n",
       "      <th>ZENSARTECH.BO</th>\n",
       "      <th>ZENSARTECH.NS</th>\n",
       "      <th>ZUARI.BO</th>\n",
       "      <th>ZUARI.NS</th>\n",
       "      <th>ZUARIGLOB.BO</th>\n",
       "      <th>ZUARIGLOB.NS</th>\n",
       "      <th>ZYDUSWELL.BO</th>\n",
       "      <th>ZYDUSWELL.NS</th>\n",
       "    </tr>\n",
       "    <tr>\n",
       "      <th>Date</th>\n",
       "      <th></th>\n",
       "      <th></th>\n",
       "      <th></th>\n",
       "      <th></th>\n",
       "      <th></th>\n",
       "      <th></th>\n",
       "      <th></th>\n",
       "      <th></th>\n",
       "      <th></th>\n",
       "      <th></th>\n",
       "      <th></th>\n",
       "      <th></th>\n",
       "      <th></th>\n",
       "      <th></th>\n",
       "      <th></th>\n",
       "      <th></th>\n",
       "      <th></th>\n",
       "      <th></th>\n",
       "      <th></th>\n",
       "      <th></th>\n",
       "      <th></th>\n",
       "    </tr>\n",
       "  </thead>\n",
       "  <tbody>\n",
       "    <tr>\n",
       "      <th>2018-01-02</th>\n",
       "      <td>102.150002</td>\n",
       "      <td>73.900002</td>\n",
       "      <td>NaN</td>\n",
       "      <td>607.200012</td>\n",
       "      <td>40.500000</td>\n",
       "      <td>197.600006</td>\n",
       "      <td>1081.000000</td>\n",
       "      <td>132.100006</td>\n",
       "      <td>327.649994</td>\n",
       "      <td>69.400002</td>\n",
       "      <td>...</td>\n",
       "      <td>226.399994</td>\n",
       "      <td>178.350006</td>\n",
       "      <td>154.750000</td>\n",
       "      <td>971.000000</td>\n",
       "      <td>25.549999</td>\n",
       "      <td>1313.550049</td>\n",
       "      <td>312.299988</td>\n",
       "      <td>132.500000</td>\n",
       "      <td>2622.000000</td>\n",
       "      <td>729.549988</td>\n",
       "    </tr>\n",
       "    <tr>\n",
       "      <th>2018-01-03</th>\n",
       "      <td>100.000000</td>\n",
       "      <td>76.199997</td>\n",
       "      <td>NaN</td>\n",
       "      <td>603.349976</td>\n",
       "      <td>42.500000</td>\n",
       "      <td>194.949997</td>\n",
       "      <td>1117.199951</td>\n",
       "      <td>128.550003</td>\n",
       "      <td>331.799988</td>\n",
       "      <td>67.699997</td>\n",
       "      <td>...</td>\n",
       "      <td>220.500000</td>\n",
       "      <td>187.250000</td>\n",
       "      <td>153.300003</td>\n",
       "      <td>1000.450012</td>\n",
       "      <td>23.950001</td>\n",
       "      <td>1298.250000</td>\n",
       "      <td>311.350006</td>\n",
       "      <td>130.000000</td>\n",
       "      <td>2600.000000</td>\n",
       "      <td>712.000000</td>\n",
       "    </tr>\n",
       "    <tr>\n",
       "      <th>2018-01-04</th>\n",
       "      <td>109.000000</td>\n",
       "      <td>77.949997</td>\n",
       "      <td>NaN</td>\n",
       "      <td>608.000000</td>\n",
       "      <td>41.000000</td>\n",
       "      <td>197.350006</td>\n",
       "      <td>1123.000000</td>\n",
       "      <td>128.550003</td>\n",
       "      <td>340.000000</td>\n",
       "      <td>68.699997</td>\n",
       "      <td>...</td>\n",
       "      <td>221.850006</td>\n",
       "      <td>196.600006</td>\n",
       "      <td>158.649994</td>\n",
       "      <td>994.349976</td>\n",
       "      <td>25.250000</td>\n",
       "      <td>1336.250000</td>\n",
       "      <td>310.149994</td>\n",
       "      <td>134.899994</td>\n",
       "      <td>2576.850098</td>\n",
       "      <td>740.000000</td>\n",
       "    </tr>\n",
       "    <tr>\n",
       "      <th>2018-01-05</th>\n",
       "      <td>105.449997</td>\n",
       "      <td>78.699997</td>\n",
       "      <td>NaN</td>\n",
       "      <td>610.150024</td>\n",
       "      <td>41.099998</td>\n",
       "      <td>194.750000</td>\n",
       "      <td>1118.000000</td>\n",
       "      <td>135.000000</td>\n",
       "      <td>334.799988</td>\n",
       "      <td>69.500000</td>\n",
       "      <td>...</td>\n",
       "      <td>225.000000</td>\n",
       "      <td>206.399994</td>\n",
       "      <td>165.000000</td>\n",
       "      <td>991.849976</td>\n",
       "      <td>24.600000</td>\n",
       "      <td>1408.000000</td>\n",
       "      <td>320.100006</td>\n",
       "      <td>132.300003</td>\n",
       "      <td>2557.000000</td>\n",
       "      <td>746.099976</td>\n",
       "    </tr>\n",
       "    <tr>\n",
       "      <th>2018-01-08</th>\n",
       "      <td>112.750000</td>\n",
       "      <td>78.300003</td>\n",
       "      <td>NaN</td>\n",
       "      <td>619.700012</td>\n",
       "      <td>42.750000</td>\n",
       "      <td>196.000000</td>\n",
       "      <td>1128.000000</td>\n",
       "      <td>131.699997</td>\n",
       "      <td>337.500000</td>\n",
       "      <td>68.500000</td>\n",
       "      <td>...</td>\n",
       "      <td>228.899994</td>\n",
       "      <td>216.699997</td>\n",
       "      <td>170.000000</td>\n",
       "      <td>1027.949951</td>\n",
       "      <td>26.000000</td>\n",
       "      <td>1450.000000</td>\n",
       "      <td>320.649994</td>\n",
       "      <td>130.000000</td>\n",
       "      <td>2700.000000</td>\n",
       "      <td>755.000000</td>\n",
       "    </tr>\n",
       "  </tbody>\n",
       "</table>\n",
       "<p>5 rows × 1961 columns</p>\n",
       "</div>"
      ],
      "text/plain": [
       "Symbol      AARTIDRUGS.BO  AARTIDRUGS.NS  AARTIIND.BO  AARTIIND.NS  \\\n",
       "Date                                                                 \n",
       "2018-01-02     102.150002      73.900002          NaN   607.200012   \n",
       "2018-01-03     100.000000      76.199997          NaN   603.349976   \n",
       "2018-01-04     109.000000      77.949997          NaN   608.000000   \n",
       "2018-01-05     105.449997      78.699997          NaN   610.150024   \n",
       "2018-01-08     112.750000      78.300003          NaN   619.700012   \n",
       "\n",
       "Symbol      AARVEEDEN.BO  AARVEEDEN.NS     AAVAS.NS     ABAN.BO     ABAN.NS  \\\n",
       "Date                                                                          \n",
       "2018-01-02     40.500000    197.600006  1081.000000  132.100006  327.649994   \n",
       "2018-01-03     42.500000    194.949997  1117.199951  128.550003  331.799988   \n",
       "2018-01-04     41.000000    197.350006  1123.000000  128.550003  340.000000   \n",
       "2018-01-05     41.099998    194.750000  1118.000000  135.000000  334.799988   \n",
       "2018-01-08     42.750000    196.000000  1128.000000  131.699997  337.500000   \n",
       "\n",
       "Symbol      ABANSENT.BO  ...  ZEEMEDIA.BO  ZEEMEDIA.NS  ZENSARTECH.BO  \\\n",
       "Date                     ...                                            \n",
       "2018-01-02    69.400002  ...   226.399994   178.350006     154.750000   \n",
       "2018-01-03    67.699997  ...   220.500000   187.250000     153.300003   \n",
       "2018-01-04    68.699997  ...   221.850006   196.600006     158.649994   \n",
       "2018-01-05    69.500000  ...   225.000000   206.399994     165.000000   \n",
       "2018-01-08    68.500000  ...   228.899994   216.699997     170.000000   \n",
       "\n",
       "Symbol      ZENSARTECH.NS   ZUARI.BO     ZUARI.NS  ZUARIGLOB.BO  ZUARIGLOB.NS  \\\n",
       "Date                                                                            \n",
       "2018-01-02     971.000000  25.549999  1313.550049    312.299988    132.500000   \n",
       "2018-01-03    1000.450012  23.950001  1298.250000    311.350006    130.000000   \n",
       "2018-01-04     994.349976  25.250000  1336.250000    310.149994    134.899994   \n",
       "2018-01-05     991.849976  24.600000  1408.000000    320.100006    132.300003   \n",
       "2018-01-08    1027.949951  26.000000  1450.000000    320.649994    130.000000   \n",
       "\n",
       "Symbol      ZYDUSWELL.BO  ZYDUSWELL.NS  \n",
       "Date                                    \n",
       "2018-01-02   2622.000000    729.549988  \n",
       "2018-01-03   2600.000000    712.000000  \n",
       "2018-01-04   2576.850098    740.000000  \n",
       "2018-01-05   2557.000000    746.099976  \n",
       "2018-01-08   2700.000000    755.000000  \n",
       "\n",
       "[5 rows x 1961 columns]"
      ]
     },
     "execution_count": 18,
     "metadata": {},
     "output_type": "execute_result"
    }
   ],
   "source": [
    "# Open value dataframe\n",
    "\n",
    "open_val.head()"
   ]
  },
  {
   "cell_type": "code",
   "execution_count": 19,
   "metadata": {},
   "outputs": [
    {
     "data": {
      "text/html": [
       "<div>\n",
       "<style scoped>\n",
       "    .dataframe tbody tr th:only-of-type {\n",
       "        vertical-align: middle;\n",
       "    }\n",
       "\n",
       "    .dataframe tbody tr th {\n",
       "        vertical-align: top;\n",
       "    }\n",
       "\n",
       "    .dataframe thead th {\n",
       "        text-align: right;\n",
       "    }\n",
       "</style>\n",
       "<table border=\"1\" class=\"dataframe\">\n",
       "  <thead>\n",
       "    <tr style=\"text-align: right;\">\n",
       "      <th>Symbol</th>\n",
       "      <th>AARTIDRUGS.BO</th>\n",
       "      <th>AARTIDRUGS.NS</th>\n",
       "      <th>AARTIIND.BO</th>\n",
       "      <th>AARTIIND.NS</th>\n",
       "      <th>AARVEEDEN.BO</th>\n",
       "      <th>AARVEEDEN.NS</th>\n",
       "      <th>AAVAS.NS</th>\n",
       "      <th>ABAN.BO</th>\n",
       "      <th>ABAN.NS</th>\n",
       "      <th>ABANSENT.BO</th>\n",
       "      <th>...</th>\n",
       "      <th>ZEEMEDIA.BO</th>\n",
       "      <th>ZEEMEDIA.NS</th>\n",
       "      <th>ZENSARTECH.BO</th>\n",
       "      <th>ZENSARTECH.NS</th>\n",
       "      <th>ZUARI.BO</th>\n",
       "      <th>ZUARI.NS</th>\n",
       "      <th>ZUARIGLOB.BO</th>\n",
       "      <th>ZUARIGLOB.NS</th>\n",
       "      <th>ZYDUSWELL.BO</th>\n",
       "      <th>ZYDUSWELL.NS</th>\n",
       "    </tr>\n",
       "    <tr>\n",
       "      <th>Date</th>\n",
       "      <th></th>\n",
       "      <th></th>\n",
       "      <th></th>\n",
       "      <th></th>\n",
       "      <th></th>\n",
       "      <th></th>\n",
       "      <th></th>\n",
       "      <th></th>\n",
       "      <th></th>\n",
       "      <th></th>\n",
       "      <th></th>\n",
       "      <th></th>\n",
       "      <th></th>\n",
       "      <th></th>\n",
       "      <th></th>\n",
       "      <th></th>\n",
       "      <th></th>\n",
       "      <th></th>\n",
       "      <th></th>\n",
       "      <th></th>\n",
       "      <th></th>\n",
       "    </tr>\n",
       "  </thead>\n",
       "  <tbody>\n",
       "    <tr>\n",
       "      <th>2018-01-02</th>\n",
       "      <td>100.150002</td>\n",
       "      <td>74.050003</td>\n",
       "      <td>NaN</td>\n",
       "      <td>601.700012</td>\n",
       "      <td>41.000000</td>\n",
       "      <td>191.149994</td>\n",
       "      <td>1105.550049</td>\n",
       "      <td>129.100006</td>\n",
       "      <td>329.100006</td>\n",
       "      <td>67.250000</td>\n",
       "      <td>...</td>\n",
       "      <td>221.000000</td>\n",
       "      <td>178.350006</td>\n",
       "      <td>152.350006</td>\n",
       "      <td>994.599976</td>\n",
       "      <td>23.90</td>\n",
       "      <td>1282.800049</td>\n",
       "      <td>310.149994</td>\n",
       "      <td>127.449997</td>\n",
       "      <td>2591.250000</td>\n",
       "      <td>714.500000</td>\n",
       "    </tr>\n",
       "    <tr>\n",
       "      <th>2018-01-03</th>\n",
       "      <td>108.650002</td>\n",
       "      <td>77.050003</td>\n",
       "      <td>NaN</td>\n",
       "      <td>607.799988</td>\n",
       "      <td>42.750000</td>\n",
       "      <td>195.899994</td>\n",
       "      <td>1137.750000</td>\n",
       "      <td>129.449997</td>\n",
       "      <td>335.649994</td>\n",
       "      <td>68.099998</td>\n",
       "      <td>...</td>\n",
       "      <td>221.850006</td>\n",
       "      <td>187.250000</td>\n",
       "      <td>157.350006</td>\n",
       "      <td>987.750000</td>\n",
       "      <td>24.25</td>\n",
       "      <td>1377.300049</td>\n",
       "      <td>310.049988</td>\n",
       "      <td>132.250000</td>\n",
       "      <td>2561.750000</td>\n",
       "      <td>736.150024</td>\n",
       "    </tr>\n",
       "    <tr>\n",
       "      <th>2018-01-04</th>\n",
       "      <td>104.599998</td>\n",
       "      <td>78.000000</td>\n",
       "      <td>NaN</td>\n",
       "      <td>612.450012</td>\n",
       "      <td>41.000000</td>\n",
       "      <td>190.149994</td>\n",
       "      <td>1137.900024</td>\n",
       "      <td>133.300003</td>\n",
       "      <td>332.149994</td>\n",
       "      <td>69.050003</td>\n",
       "      <td>...</td>\n",
       "      <td>223.699997</td>\n",
       "      <td>196.600006</td>\n",
       "      <td>164.649994</td>\n",
       "      <td>992.049988</td>\n",
       "      <td>24.40</td>\n",
       "      <td>1398.800049</td>\n",
       "      <td>322.000000</td>\n",
       "      <td>132.100006</td>\n",
       "      <td>2547.399902</td>\n",
       "      <td>743.599976</td>\n",
       "    </tr>\n",
       "    <tr>\n",
       "      <th>2018-01-05</th>\n",
       "      <td>111.849998</td>\n",
       "      <td>77.449997</td>\n",
       "      <td>NaN</td>\n",
       "      <td>616.299988</td>\n",
       "      <td>42.000000</td>\n",
       "      <td>188.949997</td>\n",
       "      <td>1128.250000</td>\n",
       "      <td>131.750000</td>\n",
       "      <td>336.299988</td>\n",
       "      <td>67.849998</td>\n",
       "      <td>...</td>\n",
       "      <td>226.199997</td>\n",
       "      <td>206.399994</td>\n",
       "      <td>168.649994</td>\n",
       "      <td>975.549988</td>\n",
       "      <td>25.10</td>\n",
       "      <td>1430.949951</td>\n",
       "      <td>320.200012</td>\n",
       "      <td>129.800003</td>\n",
       "      <td>2695.000000</td>\n",
       "      <td>750.950012</td>\n",
       "    </tr>\n",
       "    <tr>\n",
       "      <th>2018-01-08</th>\n",
       "      <td>114.699997</td>\n",
       "      <td>77.449997</td>\n",
       "      <td>NaN</td>\n",
       "      <td>609.950012</td>\n",
       "      <td>42.700001</td>\n",
       "      <td>190.100006</td>\n",
       "      <td>1111.349976</td>\n",
       "      <td>130.199997</td>\n",
       "      <td>334.399994</td>\n",
       "      <td>67.550003</td>\n",
       "      <td>...</td>\n",
       "      <td>237.500000</td>\n",
       "      <td>216.699997</td>\n",
       "      <td>167.800003</td>\n",
       "      <td>981.799988</td>\n",
       "      <td>25.35</td>\n",
       "      <td>1446.050049</td>\n",
       "      <td>323.450012</td>\n",
       "      <td>134.350006</td>\n",
       "      <td>2683.550049</td>\n",
       "      <td>745.400024</td>\n",
       "    </tr>\n",
       "  </tbody>\n",
       "</table>\n",
       "<p>5 rows × 1961 columns</p>\n",
       "</div>"
      ],
      "text/plain": [
       "Symbol      AARTIDRUGS.BO  AARTIDRUGS.NS  AARTIIND.BO  AARTIIND.NS  \\\n",
       "Date                                                                 \n",
       "2018-01-02     100.150002      74.050003          NaN   601.700012   \n",
       "2018-01-03     108.650002      77.050003          NaN   607.799988   \n",
       "2018-01-04     104.599998      78.000000          NaN   612.450012   \n",
       "2018-01-05     111.849998      77.449997          NaN   616.299988   \n",
       "2018-01-08     114.699997      77.449997          NaN   609.950012   \n",
       "\n",
       "Symbol      AARVEEDEN.BO  AARVEEDEN.NS     AAVAS.NS     ABAN.BO     ABAN.NS  \\\n",
       "Date                                                                          \n",
       "2018-01-02     41.000000    191.149994  1105.550049  129.100006  329.100006   \n",
       "2018-01-03     42.750000    195.899994  1137.750000  129.449997  335.649994   \n",
       "2018-01-04     41.000000    190.149994  1137.900024  133.300003  332.149994   \n",
       "2018-01-05     42.000000    188.949997  1128.250000  131.750000  336.299988   \n",
       "2018-01-08     42.700001    190.100006  1111.349976  130.199997  334.399994   \n",
       "\n",
       "Symbol      ABANSENT.BO  ...  ZEEMEDIA.BO  ZEEMEDIA.NS  ZENSARTECH.BO  \\\n",
       "Date                     ...                                            \n",
       "2018-01-02    67.250000  ...   221.000000   178.350006     152.350006   \n",
       "2018-01-03    68.099998  ...   221.850006   187.250000     157.350006   \n",
       "2018-01-04    69.050003  ...   223.699997   196.600006     164.649994   \n",
       "2018-01-05    67.849998  ...   226.199997   206.399994     168.649994   \n",
       "2018-01-08    67.550003  ...   237.500000   216.699997     167.800003   \n",
       "\n",
       "Symbol      ZENSARTECH.NS  ZUARI.BO     ZUARI.NS  ZUARIGLOB.BO  ZUARIGLOB.NS  \\\n",
       "Date                                                                           \n",
       "2018-01-02     994.599976     23.90  1282.800049    310.149994    127.449997   \n",
       "2018-01-03     987.750000     24.25  1377.300049    310.049988    132.250000   \n",
       "2018-01-04     992.049988     24.40  1398.800049    322.000000    132.100006   \n",
       "2018-01-05     975.549988     25.10  1430.949951    320.200012    129.800003   \n",
       "2018-01-08     981.799988     25.35  1446.050049    323.450012    134.350006   \n",
       "\n",
       "Symbol      ZYDUSWELL.BO  ZYDUSWELL.NS  \n",
       "Date                                    \n",
       "2018-01-02   2591.250000    714.500000  \n",
       "2018-01-03   2561.750000    736.150024  \n",
       "2018-01-04   2547.399902    743.599976  \n",
       "2018-01-05   2695.000000    750.950012  \n",
       "2018-01-08   2683.550049    745.400024  \n",
       "\n",
       "[5 rows x 1961 columns]"
      ]
     },
     "execution_count": 19,
     "metadata": {},
     "output_type": "execute_result"
    }
   ],
   "source": [
    "# Close value dataframe\n",
    "\n",
    "close_val.head()"
   ]
  },
  {
   "cell_type": "code",
   "execution_count": 20,
   "metadata": {},
   "outputs": [
    {
     "name": "stdout",
     "output_type": "stream",
     "text": [
      "<class 'pandas.core.frame.DataFrame'>\n",
      "Index: 488 entries, 2018-01-02 to 2020-01-01\n",
      "Columns: 1961 entries, AARTIDRUGS.BO to ZYDUSWELL.NS\n",
      "dtypes: float64(1961)\n",
      "memory usage: 7.3+ MB\n"
     ]
    }
   ],
   "source": [
    "close_val.info()"
   ]
  },
  {
   "cell_type": "markdown",
   "metadata": {},
   "source": [
    "We will create a dataframe containing the future close returns at time t, since we are predicting the close returns of next day value."
   ]
  },
  {
   "cell_type": "code",
   "execution_count": 27,
   "metadata": {},
   "outputs": [
    {
     "data": {
      "text/html": [
       "<div>\n",
       "<style scoped>\n",
       "    .dataframe tbody tr th:only-of-type {\n",
       "        vertical-align: middle;\n",
       "    }\n",
       "\n",
       "    .dataframe tbody tr th {\n",
       "        vertical-align: top;\n",
       "    }\n",
       "\n",
       "    .dataframe thead th {\n",
       "        text-align: right;\n",
       "    }\n",
       "</style>\n",
       "<table border=\"1\" class=\"dataframe\">\n",
       "  <thead>\n",
       "    <tr style=\"text-align: right;\">\n",
       "      <th>Symbol</th>\n",
       "      <th>AARTIDRUGS.BO</th>\n",
       "      <th>AARTIDRUGS.NS</th>\n",
       "      <th>AARTIIND.BO</th>\n",
       "      <th>AARTIIND.NS</th>\n",
       "      <th>AARVEEDEN.BO</th>\n",
       "      <th>AARVEEDEN.NS</th>\n",
       "      <th>AAVAS.NS</th>\n",
       "      <th>ABAN.BO</th>\n",
       "      <th>ABAN.NS</th>\n",
       "      <th>ABANSENT.BO</th>\n",
       "      <th>...</th>\n",
       "      <th>ZEEMEDIA.BO</th>\n",
       "      <th>ZEEMEDIA.NS</th>\n",
       "      <th>ZENSARTECH.BO</th>\n",
       "      <th>ZENSARTECH.NS</th>\n",
       "      <th>ZUARI.BO</th>\n",
       "      <th>ZUARI.NS</th>\n",
       "      <th>ZUARIGLOB.BO</th>\n",
       "      <th>ZUARIGLOB.NS</th>\n",
       "      <th>ZYDUSWELL.BO</th>\n",
       "      <th>ZYDUSWELL.NS</th>\n",
       "    </tr>\n",
       "    <tr>\n",
       "      <th>Date</th>\n",
       "      <th></th>\n",
       "      <th></th>\n",
       "      <th></th>\n",
       "      <th></th>\n",
       "      <th></th>\n",
       "      <th></th>\n",
       "      <th></th>\n",
       "      <th></th>\n",
       "      <th></th>\n",
       "      <th></th>\n",
       "      <th></th>\n",
       "      <th></th>\n",
       "      <th></th>\n",
       "      <th></th>\n",
       "      <th></th>\n",
       "      <th></th>\n",
       "      <th></th>\n",
       "      <th></th>\n",
       "      <th></th>\n",
       "      <th></th>\n",
       "      <th></th>\n",
       "    </tr>\n",
       "  </thead>\n",
       "  <tbody>\n",
       "    <tr>\n",
       "      <th>2019-12-26</th>\n",
       "      <td>-0.001067</td>\n",
       "      <td>0.001949</td>\n",
       "      <td>0.005519</td>\n",
       "      <td>0.003541</td>\n",
       "      <td>0.0</td>\n",
       "      <td>-0.010000</td>\n",
       "      <td>-0.004409</td>\n",
       "      <td>0.009558</td>\n",
       "      <td>0.013861</td>\n",
       "      <td>0.044898</td>\n",
       "      <td>...</td>\n",
       "      <td>0.022508</td>\n",
       "      <td>0.030303</td>\n",
       "      <td>-0.009351</td>\n",
       "      <td>-0.006589</td>\n",
       "      <td>-0.045455</td>\n",
       "      <td>0.032380</td>\n",
       "      <td>0.006116</td>\n",
       "      <td>-0.016346</td>\n",
       "      <td>0.007583</td>\n",
       "      <td>0.001456</td>\n",
       "    </tr>\n",
       "    <tr>\n",
       "      <th>2019-12-27</th>\n",
       "      <td>-0.005342</td>\n",
       "      <td>0.023346</td>\n",
       "      <td>0.024904</td>\n",
       "      <td>0.000588</td>\n",
       "      <td>0.0</td>\n",
       "      <td>0.030303</td>\n",
       "      <td>0.000473</td>\n",
       "      <td>0.073373</td>\n",
       "      <td>0.018555</td>\n",
       "      <td>0.082031</td>\n",
       "      <td>...</td>\n",
       "      <td>-0.022013</td>\n",
       "      <td>0.011029</td>\n",
       "      <td>0.003432</td>\n",
       "      <td>0.010491</td>\n",
       "      <td>-0.047619</td>\n",
       "      <td>0.010599</td>\n",
       "      <td>0.001140</td>\n",
       "      <td>0.043011</td>\n",
       "      <td>-0.014706</td>\n",
       "      <td>-0.001842</td>\n",
       "    </tr>\n",
       "    <tr>\n",
       "      <th>2019-12-30</th>\n",
       "      <td>0.006982</td>\n",
       "      <td>-0.015209</td>\n",
       "      <td>0.002526</td>\n",
       "      <td>-0.001998</td>\n",
       "      <td>0.0</td>\n",
       "      <td>0.022409</td>\n",
       "      <td>-0.007569</td>\n",
       "      <td>0.016538</td>\n",
       "      <td>0.056088</td>\n",
       "      <td>0.055957</td>\n",
       "      <td>...</td>\n",
       "      <td>0.086817</td>\n",
       "      <td>-0.003636</td>\n",
       "      <td>-0.002566</td>\n",
       "      <td>-0.034489</td>\n",
       "      <td>-0.025000</td>\n",
       "      <td>0.003803</td>\n",
       "      <td>0.009867</td>\n",
       "      <td>0.065605</td>\n",
       "      <td>0.025461</td>\n",
       "      <td>0.020398</td>\n",
       "    </tr>\n",
       "    <tr>\n",
       "      <th>2019-12-31</th>\n",
       "      <td>0.001067</td>\n",
       "      <td>0.011583</td>\n",
       "      <td>0.001663</td>\n",
       "      <td>0.016724</td>\n",
       "      <td>0.0</td>\n",
       "      <td>0.026027</td>\n",
       "      <td>0.017263</td>\n",
       "      <td>0.000000</td>\n",
       "      <td>-0.021788</td>\n",
       "      <td>0.018803</td>\n",
       "      <td>...</td>\n",
       "      <td>-0.007396</td>\n",
       "      <td>0.031022</td>\n",
       "      <td>0.000000</td>\n",
       "      <td>0.003646</td>\n",
       "      <td>0.025641</td>\n",
       "      <td>0.008554</td>\n",
       "      <td>-0.017287</td>\n",
       "      <td>-0.048373</td>\n",
       "      <td>0.040154</td>\n",
       "      <td>0.000095</td>\n",
       "    </tr>\n",
       "    <tr>\n",
       "      <th>2020-01-01</th>\n",
       "      <td>NaN</td>\n",
       "      <td>NaN</td>\n",
       "      <td>NaN</td>\n",
       "      <td>NaN</td>\n",
       "      <td>NaN</td>\n",
       "      <td>NaN</td>\n",
       "      <td>NaN</td>\n",
       "      <td>NaN</td>\n",
       "      <td>NaN</td>\n",
       "      <td>NaN</td>\n",
       "      <td>...</td>\n",
       "      <td>NaN</td>\n",
       "      <td>NaN</td>\n",
       "      <td>NaN</td>\n",
       "      <td>NaN</td>\n",
       "      <td>NaN</td>\n",
       "      <td>NaN</td>\n",
       "      <td>NaN</td>\n",
       "      <td>NaN</td>\n",
       "      <td>NaN</td>\n",
       "      <td>NaN</td>\n",
       "    </tr>\n",
       "  </tbody>\n",
       "</table>\n",
       "<p>5 rows × 1961 columns</p>\n",
       "</div>"
      ],
      "text/plain": [
       "Symbol      AARTIDRUGS.BO  AARTIDRUGS.NS  AARTIIND.BO  AARTIIND.NS  \\\n",
       "Date                                                                 \n",
       "2019-12-26      -0.001067       0.001949     0.005519     0.003541   \n",
       "2019-12-27      -0.005342       0.023346     0.024904     0.000588   \n",
       "2019-12-30       0.006982      -0.015209     0.002526    -0.001998   \n",
       "2019-12-31       0.001067       0.011583     0.001663     0.016724   \n",
       "2020-01-01            NaN            NaN          NaN          NaN   \n",
       "\n",
       "Symbol      AARVEEDEN.BO  AARVEEDEN.NS  AAVAS.NS   ABAN.BO   ABAN.NS  \\\n",
       "Date                                                                   \n",
       "2019-12-26           0.0     -0.010000 -0.004409  0.009558  0.013861   \n",
       "2019-12-27           0.0      0.030303  0.000473  0.073373  0.018555   \n",
       "2019-12-30           0.0      0.022409 -0.007569  0.016538  0.056088   \n",
       "2019-12-31           0.0      0.026027  0.017263  0.000000 -0.021788   \n",
       "2020-01-01           NaN           NaN       NaN       NaN       NaN   \n",
       "\n",
       "Symbol      ABANSENT.BO  ...  ZEEMEDIA.BO  ZEEMEDIA.NS  ZENSARTECH.BO  \\\n",
       "Date                     ...                                            \n",
       "2019-12-26     0.044898  ...     0.022508     0.030303      -0.009351   \n",
       "2019-12-27     0.082031  ...    -0.022013     0.011029       0.003432   \n",
       "2019-12-30     0.055957  ...     0.086817    -0.003636      -0.002566   \n",
       "2019-12-31     0.018803  ...    -0.007396     0.031022       0.000000   \n",
       "2020-01-01          NaN  ...          NaN          NaN            NaN   \n",
       "\n",
       "Symbol      ZENSARTECH.NS  ZUARI.BO  ZUARI.NS  ZUARIGLOB.BO  ZUARIGLOB.NS  \\\n",
       "Date                                                                        \n",
       "2019-12-26      -0.006589 -0.045455  0.032380      0.006116     -0.016346   \n",
       "2019-12-27       0.010491 -0.047619  0.010599      0.001140      0.043011   \n",
       "2019-12-30      -0.034489 -0.025000  0.003803      0.009867      0.065605   \n",
       "2019-12-31       0.003646  0.025641  0.008554     -0.017287     -0.048373   \n",
       "2020-01-01            NaN       NaN       NaN           NaN           NaN   \n",
       "\n",
       "Symbol      ZYDUSWELL.BO  ZYDUSWELL.NS  \n",
       "Date                                    \n",
       "2019-12-26      0.007583      0.001456  \n",
       "2019-12-27     -0.014706     -0.001842  \n",
       "2019-12-30      0.025461      0.020398  \n",
       "2019-12-31      0.040154      0.000095  \n",
       "2020-01-01           NaN           NaN  \n",
       "\n",
       "[5 rows x 1961 columns]"
      ]
     },
     "execution_count": 27,
     "metadata": {},
     "output_type": "execute_result"
    }
   ],
   "source": [
    "next_val = (close_val.shift(-1) / close_val - 1)\n",
    "\n",
    "# The last day return looks something like this\n",
    "\n",
    "next_val.tail()"
   ]
  },
  {
   "cell_type": "markdown",
   "metadata": {},
   "source": [
    "We will create a data frame containing close returns of the current day, which is calculated with respect to the close price of the previous day."
   ]
  },
  {
   "cell_type": "code",
   "execution_count": 26,
   "metadata": {},
   "outputs": [
    {
     "data": {
      "text/html": [
       "<div>\n",
       "<style scoped>\n",
       "    .dataframe tbody tr th:only-of-type {\n",
       "        vertical-align: middle;\n",
       "    }\n",
       "\n",
       "    .dataframe tbody tr th {\n",
       "        vertical-align: top;\n",
       "    }\n",
       "\n",
       "    .dataframe thead th {\n",
       "        text-align: right;\n",
       "    }\n",
       "</style>\n",
       "<table border=\"1\" class=\"dataframe\">\n",
       "  <thead>\n",
       "    <tr style=\"text-align: right;\">\n",
       "      <th>Symbol</th>\n",
       "      <th>AARTIDRUGS.BO</th>\n",
       "      <th>AARTIDRUGS.NS</th>\n",
       "      <th>AARTIIND.BO</th>\n",
       "      <th>AARTIIND.NS</th>\n",
       "      <th>AARVEEDEN.BO</th>\n",
       "      <th>AARVEEDEN.NS</th>\n",
       "      <th>AAVAS.NS</th>\n",
       "      <th>ABAN.BO</th>\n",
       "      <th>ABAN.NS</th>\n",
       "      <th>ABANSENT.BO</th>\n",
       "      <th>...</th>\n",
       "      <th>ZEEMEDIA.BO</th>\n",
       "      <th>ZEEMEDIA.NS</th>\n",
       "      <th>ZENSARTECH.BO</th>\n",
       "      <th>ZENSARTECH.NS</th>\n",
       "      <th>ZUARI.BO</th>\n",
       "      <th>ZUARI.NS</th>\n",
       "      <th>ZUARIGLOB.BO</th>\n",
       "      <th>ZUARIGLOB.NS</th>\n",
       "      <th>ZYDUSWELL.BO</th>\n",
       "      <th>ZYDUSWELL.NS</th>\n",
       "    </tr>\n",
       "    <tr>\n",
       "      <th>Date</th>\n",
       "      <th></th>\n",
       "      <th></th>\n",
       "      <th></th>\n",
       "      <th></th>\n",
       "      <th></th>\n",
       "      <th></th>\n",
       "      <th></th>\n",
       "      <th></th>\n",
       "      <th></th>\n",
       "      <th></th>\n",
       "      <th></th>\n",
       "      <th></th>\n",
       "      <th></th>\n",
       "      <th></th>\n",
       "      <th></th>\n",
       "      <th></th>\n",
       "      <th></th>\n",
       "      <th></th>\n",
       "      <th></th>\n",
       "      <th></th>\n",
       "      <th></th>\n",
       "    </tr>\n",
       "  </thead>\n",
       "  <tbody>\n",
       "    <tr>\n",
       "      <th>2018-01-02</th>\n",
       "      <td>NaN</td>\n",
       "      <td>NaN</td>\n",
       "      <td>NaN</td>\n",
       "      <td>NaN</td>\n",
       "      <td>NaN</td>\n",
       "      <td>NaN</td>\n",
       "      <td>NaN</td>\n",
       "      <td>NaN</td>\n",
       "      <td>NaN</td>\n",
       "      <td>NaN</td>\n",
       "      <td>...</td>\n",
       "      <td>NaN</td>\n",
       "      <td>NaN</td>\n",
       "      <td>NaN</td>\n",
       "      <td>NaN</td>\n",
       "      <td>NaN</td>\n",
       "      <td>NaN</td>\n",
       "      <td>NaN</td>\n",
       "      <td>NaN</td>\n",
       "      <td>NaN</td>\n",
       "      <td>NaN</td>\n",
       "    </tr>\n",
       "    <tr>\n",
       "      <th>2018-01-03</th>\n",
       "      <td>0.084873</td>\n",
       "      <td>0.040513</td>\n",
       "      <td>NaN</td>\n",
       "      <td>0.010138</td>\n",
       "      <td>0.042683</td>\n",
       "      <td>0.024850</td>\n",
       "      <td>0.029126</td>\n",
       "      <td>0.002711</td>\n",
       "      <td>0.019903</td>\n",
       "      <td>0.012639</td>\n",
       "      <td>...</td>\n",
       "      <td>0.003846</td>\n",
       "      <td>0.049902</td>\n",
       "      <td>0.032819</td>\n",
       "      <td>-0.006887</td>\n",
       "      <td>0.014644</td>\n",
       "      <td>0.073667</td>\n",
       "      <td>-0.000322</td>\n",
       "      <td>0.037662</td>\n",
       "      <td>-0.011384</td>\n",
       "      <td>0.030301</td>\n",
       "    </tr>\n",
       "    <tr>\n",
       "      <th>2018-01-04</th>\n",
       "      <td>-0.037276</td>\n",
       "      <td>0.012330</td>\n",
       "      <td>NaN</td>\n",
       "      <td>0.007651</td>\n",
       "      <td>-0.040936</td>\n",
       "      <td>-0.029352</td>\n",
       "      <td>0.000132</td>\n",
       "      <td>0.029741</td>\n",
       "      <td>-0.010428</td>\n",
       "      <td>0.013950</td>\n",
       "      <td>...</td>\n",
       "      <td>0.008339</td>\n",
       "      <td>0.049933</td>\n",
       "      <td>0.046393</td>\n",
       "      <td>0.004353</td>\n",
       "      <td>0.006186</td>\n",
       "      <td>0.015610</td>\n",
       "      <td>0.038542</td>\n",
       "      <td>-0.001134</td>\n",
       "      <td>-0.005602</td>\n",
       "      <td>0.010120</td>\n",
       "    </tr>\n",
       "    <tr>\n",
       "      <th>2018-01-05</th>\n",
       "      <td>0.069312</td>\n",
       "      <td>-0.007051</td>\n",
       "      <td>NaN</td>\n",
       "      <td>0.006286</td>\n",
       "      <td>0.024390</td>\n",
       "      <td>-0.006311</td>\n",
       "      <td>-0.008481</td>\n",
       "      <td>-0.011628</td>\n",
       "      <td>0.012494</td>\n",
       "      <td>-0.017379</td>\n",
       "      <td>...</td>\n",
       "      <td>0.011176</td>\n",
       "      <td>0.049847</td>\n",
       "      <td>0.024294</td>\n",
       "      <td>-0.016632</td>\n",
       "      <td>0.028689</td>\n",
       "      <td>0.022984</td>\n",
       "      <td>-0.005590</td>\n",
       "      <td>-0.017411</td>\n",
       "      <td>0.057941</td>\n",
       "      <td>0.009884</td>\n",
       "    </tr>\n",
       "    <tr>\n",
       "      <th>2018-01-08</th>\n",
       "      <td>0.025481</td>\n",
       "      <td>0.000000</td>\n",
       "      <td>NaN</td>\n",
       "      <td>-0.010303</td>\n",
       "      <td>0.016667</td>\n",
       "      <td>0.006086</td>\n",
       "      <td>-0.014979</td>\n",
       "      <td>-0.011765</td>\n",
       "      <td>-0.005650</td>\n",
       "      <td>-0.004421</td>\n",
       "      <td>...</td>\n",
       "      <td>0.049956</td>\n",
       "      <td>0.049903</td>\n",
       "      <td>-0.005040</td>\n",
       "      <td>0.006407</td>\n",
       "      <td>0.009960</td>\n",
       "      <td>0.010552</td>\n",
       "      <td>0.010150</td>\n",
       "      <td>0.035054</td>\n",
       "      <td>-0.004249</td>\n",
       "      <td>-0.007391</td>\n",
       "    </tr>\n",
       "  </tbody>\n",
       "</table>\n",
       "<p>5 rows × 1961 columns</p>\n",
       "</div>"
      ],
      "text/plain": [
       "Symbol      AARTIDRUGS.BO  AARTIDRUGS.NS  AARTIIND.BO  AARTIIND.NS  \\\n",
       "Date                                                                 \n",
       "2018-01-02            NaN            NaN          NaN          NaN   \n",
       "2018-01-03       0.084873       0.040513          NaN     0.010138   \n",
       "2018-01-04      -0.037276       0.012330          NaN     0.007651   \n",
       "2018-01-05       0.069312      -0.007051          NaN     0.006286   \n",
       "2018-01-08       0.025481       0.000000          NaN    -0.010303   \n",
       "\n",
       "Symbol      AARVEEDEN.BO  AARVEEDEN.NS  AAVAS.NS   ABAN.BO   ABAN.NS  \\\n",
       "Date                                                                   \n",
       "2018-01-02           NaN           NaN       NaN       NaN       NaN   \n",
       "2018-01-03      0.042683      0.024850  0.029126  0.002711  0.019903   \n",
       "2018-01-04     -0.040936     -0.029352  0.000132  0.029741 -0.010428   \n",
       "2018-01-05      0.024390     -0.006311 -0.008481 -0.011628  0.012494   \n",
       "2018-01-08      0.016667      0.006086 -0.014979 -0.011765 -0.005650   \n",
       "\n",
       "Symbol      ABANSENT.BO  ...  ZEEMEDIA.BO  ZEEMEDIA.NS  ZENSARTECH.BO  \\\n",
       "Date                     ...                                            \n",
       "2018-01-02          NaN  ...          NaN          NaN            NaN   \n",
       "2018-01-03     0.012639  ...     0.003846     0.049902       0.032819   \n",
       "2018-01-04     0.013950  ...     0.008339     0.049933       0.046393   \n",
       "2018-01-05    -0.017379  ...     0.011176     0.049847       0.024294   \n",
       "2018-01-08    -0.004421  ...     0.049956     0.049903      -0.005040   \n",
       "\n",
       "Symbol      ZENSARTECH.NS  ZUARI.BO  ZUARI.NS  ZUARIGLOB.BO  ZUARIGLOB.NS  \\\n",
       "Date                                                                        \n",
       "2018-01-02            NaN       NaN       NaN           NaN           NaN   \n",
       "2018-01-03      -0.006887  0.014644  0.073667     -0.000322      0.037662   \n",
       "2018-01-04       0.004353  0.006186  0.015610      0.038542     -0.001134   \n",
       "2018-01-05      -0.016632  0.028689  0.022984     -0.005590     -0.017411   \n",
       "2018-01-08       0.006407  0.009960  0.010552      0.010150      0.035054   \n",
       "\n",
       "Symbol      ZYDUSWELL.BO  ZYDUSWELL.NS  \n",
       "Date                                    \n",
       "2018-01-02           NaN           NaN  \n",
       "2018-01-03     -0.011384      0.030301  \n",
       "2018-01-04     -0.005602      0.010120  \n",
       "2018-01-05      0.057941      0.009884  \n",
       "2018-01-08     -0.004249     -0.007391  \n",
       "\n",
       "[5 rows x 1961 columns]"
      ]
     },
     "execution_count": 26,
     "metadata": {},
     "output_type": "execute_result"
    }
   ],
   "source": [
    "ret_val = (close_val / close_val.shift(1)) - 1\n",
    "\n",
    "# The current day return looks something like this\n",
    "\n",
    "ret_val.head()"
   ]
  },
  {
   "cell_type": "code",
   "execution_count": 28,
   "metadata": {},
   "outputs": [
    {
     "data": {
      "text/html": [
       "<div>\n",
       "<style scoped>\n",
       "    .dataframe tbody tr th:only-of-type {\n",
       "        vertical-align: middle;\n",
       "    }\n",
       "\n",
       "    .dataframe tbody tr th {\n",
       "        vertical-align: top;\n",
       "    }\n",
       "\n",
       "    .dataframe thead th {\n",
       "        text-align: right;\n",
       "    }\n",
       "</style>\n",
       "<table border=\"1\" class=\"dataframe\">\n",
       "  <thead>\n",
       "    <tr style=\"text-align: right;\">\n",
       "      <th>Symbol</th>\n",
       "      <th>AARTIDRUGS.BO</th>\n",
       "      <th>AARTIDRUGS.NS</th>\n",
       "      <th>AARTIIND.BO</th>\n",
       "      <th>AARTIIND.NS</th>\n",
       "      <th>AARVEEDEN.BO</th>\n",
       "      <th>AARVEEDEN.NS</th>\n",
       "      <th>AAVAS.NS</th>\n",
       "      <th>ABAN.BO</th>\n",
       "      <th>ABAN.NS</th>\n",
       "      <th>ABANSENT.BO</th>\n",
       "      <th>...</th>\n",
       "      <th>ZEEMEDIA.BO</th>\n",
       "      <th>ZEEMEDIA.NS</th>\n",
       "      <th>ZENSARTECH.BO</th>\n",
       "      <th>ZENSARTECH.NS</th>\n",
       "      <th>ZUARI.BO</th>\n",
       "      <th>ZUARI.NS</th>\n",
       "      <th>ZUARIGLOB.BO</th>\n",
       "      <th>ZUARIGLOB.NS</th>\n",
       "      <th>ZYDUSWELL.BO</th>\n",
       "      <th>ZYDUSWELL.NS</th>\n",
       "    </tr>\n",
       "    <tr>\n",
       "      <th>Date</th>\n",
       "      <th></th>\n",
       "      <th></th>\n",
       "      <th></th>\n",
       "      <th></th>\n",
       "      <th></th>\n",
       "      <th></th>\n",
       "      <th></th>\n",
       "      <th></th>\n",
       "      <th></th>\n",
       "      <th></th>\n",
       "      <th></th>\n",
       "      <th></th>\n",
       "      <th></th>\n",
       "      <th></th>\n",
       "      <th></th>\n",
       "      <th></th>\n",
       "      <th></th>\n",
       "      <th></th>\n",
       "      <th></th>\n",
       "      <th></th>\n",
       "      <th></th>\n",
       "    </tr>\n",
       "  </thead>\n",
       "  <tbody>\n",
       "    <tr>\n",
       "      <th>2018-01-02</th>\n",
       "      <td>1.036236</td>\n",
       "      <td>1.049616</td>\n",
       "      <td>NaN</td>\n",
       "      <td>1.023408</td>\n",
       "      <td>1.012346</td>\n",
       "      <td>1.053018</td>\n",
       "      <td>1.084149</td>\n",
       "      <td>1.035519</td>\n",
       "      <td>1.049689</td>\n",
       "      <td>1.038922</td>\n",
       "      <td>...</td>\n",
       "      <td>1.039243</td>\n",
       "      <td>1.001966</td>\n",
       "      <td>1.028722</td>\n",
       "      <td>1.056915</td>\n",
       "      <td>1.148230</td>\n",
       "      <td>1.034291</td>\n",
       "      <td>1.018966</td>\n",
       "      <td>1.057884</td>\n",
       "      <td>1.051200</td>\n",
       "      <td>1.024505</td>\n",
       "    </tr>\n",
       "    <tr>\n",
       "      <th>2018-01-03</th>\n",
       "      <td>1.102757</td>\n",
       "      <td>1.074899</td>\n",
       "      <td>NaN</td>\n",
       "      <td>1.014746</td>\n",
       "      <td>1.005882</td>\n",
       "      <td>1.031468</td>\n",
       "      <td>1.061694</td>\n",
       "      <td>1.031907</td>\n",
       "      <td>1.040194</td>\n",
       "      <td>1.038518</td>\n",
       "      <td>...</td>\n",
       "      <td>1.043121</td>\n",
       "      <td>1.000000</td>\n",
       "      <td>1.043550</td>\n",
       "      <td>1.017259</td>\n",
       "      <td>1.073684</td>\n",
       "      <td>1.090355</td>\n",
       "      <td>1.020200</td>\n",
       "      <td>1.065795</td>\n",
       "      <td>1.020576</td>\n",
       "      <td>1.037921</td>\n",
       "    </tr>\n",
       "    <tr>\n",
       "      <th>2018-01-04</th>\n",
       "      <td>1.051873</td>\n",
       "      <td>1.034416</td>\n",
       "      <td>NaN</td>\n",
       "      <td>1.022306</td>\n",
       "      <td>1.000000</td>\n",
       "      <td>1.055051</td>\n",
       "      <td>1.028228</td>\n",
       "      <td>1.065733</td>\n",
       "      <td>1.041317</td>\n",
       "      <td>1.038942</td>\n",
       "      <td>...</td>\n",
       "      <td>1.014199</td>\n",
       "      <td>1.003061</td>\n",
       "      <td>1.046658</td>\n",
       "      <td>1.018629</td>\n",
       "      <td>1.045454</td>\n",
       "      <td>1.065519</td>\n",
       "      <td>1.048049</td>\n",
       "      <td>1.041297</td>\n",
       "      <td>1.019838</td>\n",
       "      <td>1.021807</td>\n",
       "    </tr>\n",
       "    <tr>\n",
       "      <th>2018-01-05</th>\n",
       "      <td>1.075570</td>\n",
       "      <td>1.035901</td>\n",
       "      <td>NaN</td>\n",
       "      <td>1.017782</td>\n",
       "      <td>1.036496</td>\n",
       "      <td>1.043351</td>\n",
       "      <td>1.028235</td>\n",
       "      <td>1.036981</td>\n",
       "      <td>1.020488</td>\n",
       "      <td>1.043671</td>\n",
       "      <td>...</td>\n",
       "      <td>1.030493</td>\n",
       "      <td>1.000000</td>\n",
       "      <td>1.060928</td>\n",
       "      <td>1.027835</td>\n",
       "      <td>1.055670</td>\n",
       "      <td>1.039231</td>\n",
       "      <td>1.020794</td>\n",
       "      <td>1.057390</td>\n",
       "      <td>1.067644</td>\n",
       "      <td>1.013085</td>\n",
       "    </tr>\n",
       "    <tr>\n",
       "      <th>2018-01-08</th>\n",
       "      <td>1.057169</td>\n",
       "      <td>1.027308</td>\n",
       "      <td>NaN</td>\n",
       "      <td>1.021927</td>\n",
       "      <td>1.002342</td>\n",
       "      <td>1.039620</td>\n",
       "      <td>1.028869</td>\n",
       "      <td>1.033077</td>\n",
       "      <td>1.039426</td>\n",
       "      <td>1.024535</td>\n",
       "      <td>...</td>\n",
       "      <td>1.046025</td>\n",
       "      <td>1.000000</td>\n",
       "      <td>1.039079</td>\n",
       "      <td>1.066559</td>\n",
       "      <td>1.067460</td>\n",
       "      <td>1.033609</td>\n",
       "      <td>1.021875</td>\n",
       "      <td>1.082390</td>\n",
       "      <td>1.032805</td>\n",
       "      <td>1.018864</td>\n",
       "    </tr>\n",
       "  </tbody>\n",
       "</table>\n",
       "<p>5 rows × 1961 columns</p>\n",
       "</div>"
      ],
      "text/plain": [
       "Symbol      AARTIDRUGS.BO  AARTIDRUGS.NS  AARTIIND.BO  AARTIIND.NS  \\\n",
       "Date                                                                 \n",
       "2018-01-02       1.036236       1.049616          NaN     1.023408   \n",
       "2018-01-03       1.102757       1.074899          NaN     1.014746   \n",
       "2018-01-04       1.051873       1.034416          NaN     1.022306   \n",
       "2018-01-05       1.075570       1.035901          NaN     1.017782   \n",
       "2018-01-08       1.057169       1.027308          NaN     1.021927   \n",
       "\n",
       "Symbol      AARVEEDEN.BO  AARVEEDEN.NS  AAVAS.NS   ABAN.BO   ABAN.NS  \\\n",
       "Date                                                                   \n",
       "2018-01-02      1.012346      1.053018  1.084149  1.035519  1.049689   \n",
       "2018-01-03      1.005882      1.031468  1.061694  1.031907  1.040194   \n",
       "2018-01-04      1.000000      1.055051  1.028228  1.065733  1.041317   \n",
       "2018-01-05      1.036496      1.043351  1.028235  1.036981  1.020488   \n",
       "2018-01-08      1.002342      1.039620  1.028869  1.033077  1.039426   \n",
       "\n",
       "Symbol      ABANSENT.BO  ...  ZEEMEDIA.BO  ZEEMEDIA.NS  ZENSARTECH.BO  \\\n",
       "Date                     ...                                            \n",
       "2018-01-02     1.038922  ...     1.039243     1.001966       1.028722   \n",
       "2018-01-03     1.038518  ...     1.043121     1.000000       1.043550   \n",
       "2018-01-04     1.038942  ...     1.014199     1.003061       1.046658   \n",
       "2018-01-05     1.043671  ...     1.030493     1.000000       1.060928   \n",
       "2018-01-08     1.024535  ...     1.046025     1.000000       1.039079   \n",
       "\n",
       "Symbol      ZENSARTECH.NS  ZUARI.BO  ZUARI.NS  ZUARIGLOB.BO  ZUARIGLOB.NS  \\\n",
       "Date                                                                        \n",
       "2018-01-02       1.056915  1.148230  1.034291      1.018966      1.057884   \n",
       "2018-01-03       1.017259  1.073684  1.090355      1.020200      1.065795   \n",
       "2018-01-04       1.018629  1.045454  1.065519      1.048049      1.041297   \n",
       "2018-01-05       1.027835  1.055670  1.039231      1.020794      1.057390   \n",
       "2018-01-08       1.066559  1.067460  1.033609      1.021875      1.082390   \n",
       "\n",
       "Symbol      ZYDUSWELL.BO  ZYDUSWELL.NS  \n",
       "Date                                    \n",
       "2018-01-02      1.051200      1.024505  \n",
       "2018-01-03      1.020576      1.037921  \n",
       "2018-01-04      1.019838      1.021807  \n",
       "2018-01-05      1.067644      1.013085  \n",
       "2018-01-08      1.032805      1.018864  \n",
       "\n",
       "[5 rows x 1961 columns]"
      ]
     },
     "execution_count": 28,
     "metadata": {},
     "output_type": "execute_result"
    }
   ],
   "source": [
    "# Dataframe with ratio of high/low for each symbols\n",
    "\n",
    "hl_val = high_val / low_val\n",
    "hl_val.head()"
   ]
  },
  {
   "cell_type": "markdown",
   "metadata": {},
   "source": [
    "## Data Pre-pocessing"
   ]
  },
  {
   "cell_type": "markdown",
   "metadata": {},
   "source": [
    "Missing values in the close_val dataframe occurs since not all the Symbols contain information from the start date. These missing values may also occur if trade doesn't happen on that day.\n",
    "Let's check the non-missing values."
   ]
  },
  {
   "cell_type": "code",
   "execution_count": 46,
   "metadata": {},
   "outputs": [
    {
     "name": "stdout",
     "output_type": "stream",
     "text": [
      "There are 1187 symbols with full data available.\n"
     ]
    },
    {
     "data": {
      "image/png": "[encoded data removed]",
      "text/plain": [
       "<Figure size 432x288 with 1 Axes>"
      ]
     },
     "metadata": {
      "needs_background": "light"
     },
     "output_type": "display_data"
    }
   ],
   "source": [
    "# Histogram for non-missing values for 488 days\n",
    "\n",
    "import matplotlib.pyplot as plt\n",
    "hist = close_val.notna().sum().hist(bins=10)\n",
    "plt.xlabel(\"Observations\")\n",
    "plt.ylabel(\"Symbols\")\n",
    "plt.title(\"Non-missing values in Symbols\")\n",
    "print(\"There are {} symbols with full data available.\".format(close_val.columns[(close_val.notna().sum() == close_val.shape[0]).values].shape[0])) \n",
    "plt.show()"
   ]
  },
  {
   "cell_type": "code",
   "execution_count": 39,
   "metadata": {
    "scrolled": true
   },
   "outputs": [
    {
     "data": {
      "text/plain": [
       "Symbol\n",
       "AARTIDRUGS.BO    488\n",
       "AARTIDRUGS.NS    487\n",
       "AARTIIND.BO      172\n",
       "AARTIIND.NS      488\n",
       "AARVEEDEN.BO     487\n",
       "AARVEEDEN.NS     487\n",
       "AAVAS.NS         488\n",
       "ABAN.BO          487\n",
       "ABAN.NS          488\n",
       "ABANSENT.BO      488\n",
       "ABB.BO           487\n",
       "ABB.NS           488\n",
       "ABBOTINDIA.BO    487\n",
       "ABBOTINDIA.NS    488\n",
       "ABCAPITAL.BO     487\n",
       "ABCAPITAL.NS     488\n",
       "ABFRL.BO         487\n",
       "ABFRL.NS         487\n",
       "ACC.BO           487\n",
       "ACC.NS           488\n",
       "ACE.BO           488\n",
       "ACE.NS           482\n",
       "ADANIENT.BO      488\n",
       "ADANIENT.NS      488\n",
       "ADANIGAS.NS      487\n",
       "ADANIGREEN.NS    375\n",
       "ADANIPORTS.BO    487\n",
       "ADANIPORTS.NS    488\n",
       "ADANIPOWER.BO    488\n",
       "ADANIPOWER.NS    488\n",
       "                ... \n",
       "WESTLIFE.BO      488\n",
       "WESTLIFE.NS      486\n",
       "WHEELS.BO        488\n",
       "WHEELS.NS        488\n",
       "WHIRLPOOL.BO     487\n",
       "WHIRLPOOL.NS     488\n",
       "WINSOMTX.BO      488\n",
       "WIPRO.BO         487\n",
       "WIPRO.NS         488\n",
       "WOCKPHARMA.BO    488\n",
       "WOCKPHARMA.NS    488\n",
       "WPIL.BO          488\n",
       "WSTCSTPAPR.BO    487\n",
       "WSTCSTPAPR.NS    487\n",
       "YESBANK.BO       487\n",
       "YESBANK.NS       488\n",
       "ZEEL.BO          488\n",
       "ZEEL.NS          488\n",
       "ZEELEARN.BO      487\n",
       "ZEELEARN.NS      488\n",
       "ZEEMEDIA.BO      488\n",
       "ZEEMEDIA.NS      487\n",
       "ZENSARTECH.BO    488\n",
       "ZENSARTECH.NS    487\n",
       "ZUARI.BO         488\n",
       "ZUARI.NS         487\n",
       "ZUARIGLOB.BO     488\n",
       "ZUARIGLOB.NS     487\n",
       "ZYDUSWELL.BO     172\n",
       "ZYDUSWELL.NS     487\n",
       "Length: 1961, dtype: int64"
      ]
     },
     "execution_count": 39,
     "metadata": {},
     "output_type": "execute_result"
    }
   ],
   "source": [
    "close_val.notna().sum()"
   ]
  },
  {
   "cell_type": "code",
   "execution_count": 40,
   "metadata": {},
   "outputs": [],
   "source": [
    "# Lets' take Symbols with more than 400 non-missing values\n",
    "\n",
    "valid_sym = close_val.columns[(close_val.notna().sum() >= 400).values]\n",
    "open_val = open_val[valid_sym]\n",
    "high_val = high_val[valid_sym]\n",
    "low_val = low_val[valid_sym]\n",
    "close_val = close_val[valid_sym]\n",
    "volume = volume[valid_sym]\n",
    "next_val = next_val[valid_sym]\n",
    "ret_val = ret_val[valid_sym]\n",
    "hl_val = hl_val[valid_sym]"
   ]
  },
  {
   "cell_type": "code",
   "execution_count": 44,
   "metadata": {},
   "outputs": [
    {
     "data": {
      "text/plain": [
       "Index(['AARTIDRUGS.BO', 'AARTIDRUGS.NS', 'AARTIIND.NS', 'AARVEEDEN.BO',\n",
       "       'AARVEEDEN.NS', 'AAVAS.NS', 'ABAN.BO', 'ABAN.NS', 'ABANSENT.BO',\n",
       "       'ABB.BO',\n",
       "       ...\n",
       "       'ZEELEARN.NS', 'ZEEMEDIA.BO', 'ZEEMEDIA.NS', 'ZENSARTECH.BO',\n",
       "       'ZENSARTECH.NS', 'ZUARI.BO', 'ZUARI.NS', 'ZUARIGLOB.BO', 'ZUARIGLOB.NS',\n",
       "       'ZYDUSWELL.NS'],\n",
       "      dtype='object', name='Symbol', length=1872)"
      ]
     },
     "execution_count": 44,
     "metadata": {},
     "output_type": "execute_result"
    }
   ],
   "source": [
    "# The valid symbols looks something like this..\n",
    "\n",
    "valid_sym"
   ]
  },
  {
   "cell_type": "markdown",
   "metadata": {},
   "source": [
    "Let's look at the average correlation to next day return values and rank the symbols accordingly."
   ]
  },
  {
   "cell_type": "code",
   "execution_count": 49,
   "metadata": {},
   "outputs": [],
   "source": [
    "corr_val = pd.DataFrame()\n",
    "\n",
    "for Symbol in valid_sym:\n",
    "    df = pd.concat([open_val[Symbol], high_val[Symbol], low_val[Symbol], close_val[Symbol], volume[Symbol], next_val[Symbol], ret_val[Symbol], hl_val[Symbol]], axis=1, \n",
    "                   keys=[\"open\", \"high\", \"low\", \"close\", \"volume\", \"next_val\", \"ret_val\", \"hl_val\"])\n",
    "    corr_val = corr_val.append({\"symbol\": Symbol, \"avgcorr\": df.corr().drop(\"next_val\", axis = 1).loc['next_val'].abs().mean()}, ignore_index = True)"
   ]
  },
  {
   "cell_type": "code",
   "execution_count": 50,
   "metadata": {},
   "outputs": [
    {
     "data": {
      "image/png": "[encoded data removed]",
      "text/plain": [
       "<Figure size 432x288 with 1 Axes>"
      ]
     },
     "metadata": {
      "needs_background": "light"
     },
     "output_type": "display_data"
    }
   ],
   "source": [
    "# Histogram of values of average correlation to next day return\n",
    "corr_val.avgcorr.hist();\n",
    "plt.xlabel(\"Average correlation\")\n",
    "plt.ylabel(\"Frequency\")\n",
    "plt.title(\"Average correlation to next day return\")\n",
    "plt.show()"
   ]
  },
  {
   "cell_type": "markdown",
   "metadata": {},
   "source": [
    "Based on the histogram above, we can see that there are very few symbols with good correlation to next day values. For high profitability, we are taking the symbols that possess good predictive power.\n",
    "Let's consider the tickers with average correlation of more than the 90%."
   ]
  },
  {
   "cell_type": "code",
   "execution_count": 53,
   "metadata": {},
   "outputs": [],
   "source": [
    "sym90 = corr_val[corr_val.avgcorr > corr_val.avgcorr.quantile(0.90)].symbol.values\n",
    "\n",
    "open_val = open_val[sym90]\n",
    "high_val = high_val[sym90]\n",
    "low_val = low_val[sym90]\n",
    "close_val = close_val[sym90]\n",
    "volume = volume[sym90]\n",
    "next_val = next_val[sym90]\n",
    "ret_val = ret_val[sym90]\n",
    "hl_val = hl_val [sym90]"
   ]
  },
  {
   "cell_type": "markdown",
   "metadata": {},
   "source": [
    "## Technical Analysis"
   ]
  },
  {
   "cell_type": "markdown",
   "metadata": {},
   "source": [
    "We want to create features that possess some level of predictive power which could indicate the future direction of the market. Statistically, these features should have good correlation  power to the market movement.\n",
    "\n",
    "There are many such transformations in Statistics. \n",
    "\n",
    "According to work by Borovkova, some of the key technical indicators that can be used are categorised into four groups, Momentum, Trend, Volume and Volatility. Some of the commonly used indicators are:\n",
    "\n",
    "#### Momentum:-\n",
    "\n",
    "    1. Money flow index \n",
    "    2. Relative strength index\n",
    "    3. Stochastic oscillator\n",
    "    4. William %R\n",
    "    \n",
    "#### Trend:-\n",
    "\n",
    "    1. Exponential moving average\n",
    "    2. Moving average convergence-divergence\n",
    "    3. Commodity channel index\n",
    "    4. Ichimoku Indicator\n",
    "    \n",
    "#### Volume:-\n",
    "\n",
    "    1. Accumulation/distribution index\n",
    "    \n",
    "#### Volatility:-\n",
    "\n",
    "    1. Bollinger bands "
   ]
  },
  {
   "cell_type": "markdown",
   "metadata": {},
   "source": [
    "# Technical Analysis package\n",
    "\n",
    "import ta"
   ]
  },
  {
   "cell_type": "markdown",
   "metadata": {},
   "source": [
    "##### 1. Money flow index"
   ]
  },
  {
   "cell_type": "code",
   "execution_count": 67,
   "metadata": {},
   "outputs": [
    {
     "name": "stderr",
     "output_type": "stream",
     "text": [
      "/home/nielit/anaconda3/lib/python3.7/site-packages/ipykernel_launcher.py:8: FutureWarning: Sorting because non-concatenation axis is not aligned. A future version\n",
      "of pandas will change to not sort by default.\n",
      "\n",
      "To accept the future behavior, pass 'sort=False'.\n",
      "\n",
      "To retain the current behavior and silence the warning, pass 'sort=True'.\n",
      "\n",
      "  \n"
     ]
    }
   ],
   "source": [
    "mfi = pd.DataFrame()\n",
    "\n",
    "for Symbol in close_val.columns:\n",
    "    \n",
    "    temp = ta.momentum.money_flow_index(high=high_val[Symbol], low=low_val[Symbol], close=close_val[Symbol], volume=volume[Symbol], fillna=True)\n",
    "    mfi = pd.concat([mfi, temp], axis=1)\n",
    "\n",
    "# renaming the columns\n",
    "mfi.columns = close_val.columns"
   ]
  },
  {
   "cell_type": "markdown",
   "metadata": {},
   "source": [
    "##### 2. Relative Strength Index"
   ]
  },
  {
   "cell_type": "code",
   "execution_count": 61,
   "metadata": {},
   "outputs": [],
   "source": [
    "rsi = close_val.apply(ta.momentum.rsi, fillna=True)"
   ]
  },
  {
   "cell_type": "markdown",
   "metadata": {},
   "source": [
    "##### 3. Stochastic oscillator"
   ]
  },
  {
   "cell_type": "code",
   "execution_count": 63,
   "metadata": {},
   "outputs": [
    {
     "name": "stderr",
     "output_type": "stream",
     "text": [
      "/home/nielit/anaconda3/lib/python3.7/site-packages/ipykernel_launcher.py:8: FutureWarning: Sorting because non-concatenation axis is not aligned. A future version\n",
      "of pandas will change to not sort by default.\n",
      "\n",
      "To accept the future behavior, pass 'sort=False'.\n",
      "\n",
      "To retain the current behavior and silence the warning, pass 'sort=True'.\n",
      "\n",
      "  \n",
      "/home/nielit/anaconda3/lib/python3.7/site-packages/ipykernel_launcher.py:11: FutureWarning: Sorting because non-concatenation axis is not aligned. A future version\n",
      "of pandas will change to not sort by default.\n",
      "\n",
      "To accept the future behavior, pass 'sort=False'.\n",
      "\n",
      "To retain the current behavior and silence the warning, pass 'sort=True'.\n",
      "\n",
      "  # This is added back by InteractiveShellApp.init_path()\n"
     ]
    }
   ],
   "source": [
    "stoch_k = pd.DataFrame()\n",
    "stoch_d = pd.DataFrame()\n",
    "\n",
    "for Symbol in close_val.columns:\n",
    "    temp = ta.momentum.stoch(high=high_val[Symbol], low=low_val[Symbol], close=close_val[Symbol], fillna=True)\n",
    "    stoch_k = pd.concat([stoch_k, temp], axis=1)\n",
    "    \n",
    "    temp = ta.momentum.stoch_signal(high=high_val[Symbol], low=low_val[Symbol], close=close_val[Symbol], fillna=True)\n",
    "    stoch_d = pd.concat([stoch_d, temp], axis=1)\n",
    "\n",
    "# renaming the columns\n",
    "stoch_k.columns = close_val.columns\n",
    "stoch_d.columns = close_val.columns"
   ]
  },
  {
   "cell_type": "markdown",
   "metadata": {},
   "source": [
    "##### 4. William %R"
   ]
  },
  {
   "cell_type": "code",
   "execution_count": 65,
   "metadata": {},
   "outputs": [
    {
     "name": "stderr",
     "output_type": "stream",
     "text": [
      "/home/nielit/anaconda3/lib/python3.7/site-packages/ipykernel_launcher.py:7: FutureWarning: Sorting because non-concatenation axis is not aligned. A future version\n",
      "of pandas will change to not sort by default.\n",
      "\n",
      "To accept the future behavior, pass 'sort=False'.\n",
      "\n",
      "To retain the current behavior and silence the warning, pass 'sort=True'.\n",
      "\n",
      "  import sys\n"
     ]
    }
   ],
   "source": [
    "will_r = pd.DataFrame()\n",
    "\n",
    "for Symbol in close_val.columns:\n",
    "    temp = ta.momentum.wr(high=high_val[Symbol], low=low_val[Symbol], close=close_val[Symbol], fillna=True)\n",
    "    will_r = pd.concat([will_r, temp], axis=1)\n",
    "\n",
    "# renaming the columns\n",
    "will_r.columns = close_val.columns"
   ]
  },
  {
   "cell_type": "markdown",
   "metadata": {},
   "source": [
    "##### 5. Exponential moving average"
   ]
  },
  {
   "cell_type": "code",
   "execution_count": 70,
   "metadata": {},
   "outputs": [],
   "source": [
    "ema = close_val.apply(ta.trend.ema_indicator, fillna=True)"
   ]
  },
  {
   "cell_type": "markdown",
   "metadata": {},
   "source": [
    "##### 6. Moving average convergence-divergence"
   ]
  },
  {
   "cell_type": "code",
   "execution_count": 71,
   "metadata": {},
   "outputs": [],
   "source": [
    "macd = close_val.apply(ta.trend.macd_diff, fillna=True)"
   ]
  },
  {
   "cell_type": "markdown",
   "metadata": {},
   "source": [
    "##### 7. Commodity channel index"
   ]
  },
  {
   "cell_type": "code",
   "execution_count": 73,
   "metadata": {},
   "outputs": [
    {
     "name": "stderr",
     "output_type": "stream",
     "text": [
      "/home/nielit/anaconda3/lib/python3.7/site-packages/ipykernel_launcher.py:5: FutureWarning: Sorting because non-concatenation axis is not aligned. A future version\n",
      "of pandas will change to not sort by default.\n",
      "\n",
      "To accept the future behavior, pass 'sort=False'.\n",
      "\n",
      "To retain the current behavior and silence the warning, pass 'sort=True'.\n",
      "\n",
      "  \"\"\"\n"
     ]
    }
   ],
   "source": [
    "cci = pd.DataFrame()\n",
    "\n",
    "for Symbol in close_val.columns:\n",
    "    temp = ta.trend.cci(high=high_val[Symbol], low=low_val[Symbol], close=close_val[Symbol], fillna=True)\n",
    "    cci = pd.concat([cci, temp], axis=1)\n",
    "\n",
    "# renaming the columns\n",
    "cci.columns = close_val.columns"
   ]
  },
  {
   "cell_type": "markdown",
   "metadata": {},
   "source": [
    "##### 8. Ichimoku Indicator"
   ]
  },
  {
   "cell_type": "code",
   "execution_count": 77,
   "metadata": {},
   "outputs": [
    {
     "name": "stderr",
     "output_type": "stream",
     "text": [
      "/home/nielit/anaconda3/lib/python3.7/site-packages/ipykernel_launcher.py:6: FutureWarning: Sorting because non-concatenation axis is not aligned. A future version\n",
      "of pandas will change to not sort by default.\n",
      "\n",
      "To accept the future behavior, pass 'sort=False'.\n",
      "\n",
      "To retain the current behavior and silence the warning, pass 'sort=True'.\n",
      "\n",
      "  \n",
      "/home/nielit/anaconda3/lib/python3.7/site-packages/ipykernel_launcher.py:9: FutureWarning: Sorting because non-concatenation axis is not aligned. A future version\n",
      "of pandas will change to not sort by default.\n",
      "\n",
      "To accept the future behavior, pass 'sort=False'.\n",
      "\n",
      "To retain the current behavior and silence the warning, pass 'sort=True'.\n",
      "\n",
      "  if __name__ == '__main__':\n"
     ]
    }
   ],
   "source": [
    "ichi_a = pd.DataFrame()\n",
    "ichi_b = pd.DataFrame()\n",
    "\n",
    "for Symbol in close_val.columns:\n",
    "    temp = ta.trend.ichimoku_a(high=high_val[Symbol], low=low_val[Symbol], fillna=True)\n",
    "    ichi_a = pd.concat([ichi_a, temp], axis=1)\n",
    "\n",
    "    temp = ta.trend.ichimoku_b(high=high_val[Symbol], low=low_val[Symbol], fillna=True)\n",
    "    ichi_b = pd.concat([ichi_b, temp], axis=1)\n",
    "\n",
    "# renaming the columns\n",
    "ichi_a.columns = close_val.columns\n",
    "ichi_b.columns = close_val.columns"
   ]
  },
  {
   "cell_type": "markdown",
   "metadata": {},
   "source": [
    "##### 9. Accumulation/distribution index"
   ]
  },
  {
   "cell_type": "code",
   "execution_count": 79,
   "metadata": {},
   "outputs": [
    {
     "name": "stderr",
     "output_type": "stream",
     "text": [
      "/home/nielit/anaconda3/lib/python3.7/site-packages/ipykernel_launcher.py:5: FutureWarning: Sorting because non-concatenation axis is not aligned. A future version\n",
      "of pandas will change to not sort by default.\n",
      "\n",
      "To accept the future behavior, pass 'sort=False'.\n",
      "\n",
      "To retain the current behavior and silence the warning, pass 'sort=True'.\n",
      "\n",
      "  \"\"\"\n"
     ]
    }
   ],
   "source": [
    "ad = pd.DataFrame()\n",
    "\n",
    "for Symbol in close_val.columns:\n",
    "    temp = ta.volume.acc_dist_index(high=high_val[Symbol], low=low_val[Symbol], close=close_val[Symbol], volume=volume[Symbol],fillna=True)\n",
    "    ad = pd.concat([ad, temp], axis=1)\n",
    "\n",
    "# renaming the columns\n",
    "ad.columns = close_val.columns"
   ]
  },
  {
   "cell_type": "markdown",
   "metadata": {},
   "source": [
    "##### 10. Bollinger bands"
   ]
  },
  {
   "cell_type": "code",
   "execution_count": 81,
   "metadata": {},
   "outputs": [],
   "source": [
    "bb_up = close_val.apply(ta.volatility.bollinger_hband, fillna=True)\n",
    "bb_down = close_val.apply(ta.volatility.bollinger_lband, fillna=True)"
   ]
  },
  {
   "cell_type": "markdown",
   "metadata": {},
   "source": [
    "## Data Analysis"
   ]
  },
  {
   "cell_type": "code",
   "execution_count": 92,
   "metadata": {},
   "outputs": [],
   "source": [
    "# Listing all the above needed dataframes\n",
    "\n",
    "dfois = [open_val, high_val, low_val, close_val,volume, ret_val, hl_val,\n",
    "         mfi, ema, rsi, stoch_k, stoch_d, macd, will_r, cci,\n",
    "         ichi_a, ichi_b, ad, bb_up, bb_down, next_val]\n",
    "dfois_str = ['open', 'high', 'low', 'close', 'volume', 'rtn', 'hl','mfi', 'ema', 'rsi', 'stoch_k', 'stoch_d', 'macd', \n",
    "             'will_r', 'cci', 'ichi_a', 'ichi_b', 'ad', 'bb_up', 'bb_down', 'next_val']"
   ]
  },
  {
   "cell_type": "code",
   "execution_count": 93,
   "metadata": {},
   "outputs": [
    {
     "data": {
      "image/png": "[encoded data removed]",
      "text/plain": [
       "<Figure size 1080x1080 with 2 Axes>"
      ]
     },
     "metadata": {
      "needs_background": "light"
     },
     "output_type": "display_data"
    }
   ],
   "source": [
    "import seaborn as sns\n",
    "\n",
    "corr_val = np.empty([len(dfois),len(dfois)])\n",
    "\n",
    "# Loop over every dataframe and find correlation\n",
    "\n",
    "for i, df1 in enumerate(dfois):\n",
    "    for j, df2 in enumerate(dfois):\n",
    "        corr_val[i][j] = df1.corrwith(df2).mean()\n",
    "    \n",
    "fig, ax = plt.subplots(figsize=(15,15))\n",
    "df_corr = pd.DataFrame(corr_val, columns=dfois_str, index=dfois_str)\n",
    "\n",
    "# Heatmap using seaborn\n",
    "\n",
    "sns.heatmap(df_corr, vmin=-1, vmax=1, center=0, cmap=sns.diverging_palette(10, 240, n=500), ax=ax)\n",
    "\n",
    "ax.set_xticklabels(ax.get_xticklabels(), rotation=45, horizontalalignment='right');\n",
    "\n",
    "ax.set_title('Avg. colleration matrix heatmap');"
   ]
  },
  {
   "cell_type": "markdown",
   "metadata": {},
   "source": [
    "In additian to the correlation matrix heatmap, let's have a look at the histogram of data to look for outliers. we will normalise the data from 0 to 1 for every ticker so that they can be visualised and benchmarked appropriately."
   ]
  },
  {
   "cell_type": "code",
   "execution_count": 99,
   "metadata": {},
   "outputs": [
    {
     "name": "stderr",
     "output_type": "stream",
     "text": [
      "/home/nielit/anaconda3/lib/python3.7/site-packages/numpy/lib/histograms.py:824: RuntimeWarning: invalid value encountered in greater_equal\n",
      "  keep = (tmp_a >= first_edge)\n",
      "/home/nielit/anaconda3/lib/python3.7/site-packages/numpy/lib/histograms.py:825: RuntimeWarning: invalid value encountered in less_equal\n",
      "  keep &= (tmp_a <= last_edge)\n",
      "/home/nielit/anaconda3/lib/python3.7/site-packages/numpy/lib/histograms.py:824: RuntimeWarning: invalid value encountered in greater_equal\n",
      "  keep = (tmp_a >= first_edge)\n",
      "/home/nielit/anaconda3/lib/python3.7/site-packages/numpy/lib/histograms.py:825: RuntimeWarning: invalid value encountered in less_equal\n",
      "  keep &= (tmp_a <= last_edge)\n",
      "/home/nielit/anaconda3/lib/python3.7/site-packages/numpy/lib/histograms.py:824: RuntimeWarning: invalid value encountered in greater_equal\n",
      "  keep = (tmp_a >= first_edge)\n",
      "/home/nielit/anaconda3/lib/python3.7/site-packages/numpy/lib/histograms.py:825: RuntimeWarning: invalid value encountered in less_equal\n",
      "  keep &= (tmp_a <= last_edge)\n",
      "/home/nielit/anaconda3/lib/python3.7/site-packages/numpy/lib/histograms.py:824: RuntimeWarning: invalid value encountered in greater_equal\n",
      "  keep = (tmp_a >= first_edge)\n",
      "/home/nielit/anaconda3/lib/python3.7/site-packages/numpy/lib/histograms.py:825: RuntimeWarning: invalid value encountered in less_equal\n",
      "  keep &= (tmp_a <= last_edge)\n",
      "/home/nielit/anaconda3/lib/python3.7/site-packages/numpy/lib/histograms.py:824: RuntimeWarning: invalid value encountered in greater_equal\n",
      "  keep = (tmp_a >= first_edge)\n",
      "/home/nielit/anaconda3/lib/python3.7/site-packages/numpy/lib/histograms.py:825: RuntimeWarning: invalid value encountered in less_equal\n",
      "  keep &= (tmp_a <= last_edge)\n",
      "/home/nielit/anaconda3/lib/python3.7/site-packages/numpy/lib/histograms.py:824: RuntimeWarning: invalid value encountered in greater_equal\n",
      "  keep = (tmp_a >= first_edge)\n",
      "/home/nielit/anaconda3/lib/python3.7/site-packages/numpy/lib/histograms.py:825: RuntimeWarning: invalid value encountered in less_equal\n",
      "  keep &= (tmp_a <= last_edge)\n",
      "/home/nielit/anaconda3/lib/python3.7/site-packages/numpy/lib/histograms.py:824: RuntimeWarning: invalid value encountered in greater_equal\n",
      "  keep = (tmp_a >= first_edge)\n",
      "/home/nielit/anaconda3/lib/python3.7/site-packages/numpy/lib/histograms.py:825: RuntimeWarning: invalid value encountered in less_equal\n",
      "  keep &= (tmp_a <= last_edge)\n",
      "/home/nielit/anaconda3/lib/python3.7/site-packages/numpy/lib/histograms.py:824: RuntimeWarning: invalid value encountered in greater_equal\n",
      "  keep = (tmp_a >= first_edge)\n",
      "/home/nielit/anaconda3/lib/python3.7/site-packages/numpy/lib/histograms.py:825: RuntimeWarning: invalid value encountered in less_equal\n",
      "  keep &= (tmp_a <= last_edge)\n"
     ]
    },
    {
     "data": {
      "image/png": "[encoded data removed]",
      "text/plain": [
       "<Figure size 1440x2160 with 20 Axes>"
      ]
     },
     "metadata": {
      "needs_background": "light"
     },
     "output_type": "display_data"
    }
   ],
   "source": [
    "from sklearn import preprocessing\n",
    "\n",
    "# Normalise and draw subplots for each feature\n",
    "\n",
    "fig, axs = plt.subplots(10,2, figsize=(20, 30))   \n",
    "for i, ax in enumerate(axs.flatten()):\n",
    "    if i >= 20:\n",
    "        pass\n",
    "    else:\n",
    "        nomaliser = preprocessing.MinMaxScaler(feature_range=(0,1))\n",
    "        df_val = nomaliser.fit_transform(dfois[i])\n",
    "        ax.hist(df_val.reshape(df_val.shape[0]*df_val.shape[1]), bins=50)\n",
    "        ax.set_title(dfois_str[i])\n",
    "        ax.set_ylabel('Frequency')\n",
    "        ax.grid()"
   ]
  },
  {
   "cell_type": "markdown",
   "metadata": {},
   "source": [
    "Analysing the correlation heatmap and histograms above.\n",
    "\n",
    "Open, high, low and close values are highly correlated to each other. This is expected because the values are within close proximity to each other. As the technical indicators are calculated using these values and intrinsicly retain its information, open, high, and low values can be removed from feature list.\n",
    "\n",
    "Most of the distributions above are either normal or uniform in shape, expect for hl and volume. This suggests that there will be a large number of outliers in those two features. Although the other features with normal distribution may have outliers in the tail section, they can be considered negligible. In addition, observing the correlation matrix, they also appear to have low correlation to future return, which is the metric we will be predicting. Therefore, it justifies to leave hl and volume out from the feature list.\n",
    "Similarly, based on the correlation matrix heatmap, some values appear to not have much correlation to next day value. They are: mfi and ad. To keep the prediction model simple, these features can also be regarded as not useful.\n",
    "\n",
    "Finally, it also appears that stoch_k is highly correlated to william_r. This is expected because the mathematical expression of both the indicators are similar. Here, william_r will be removed from the feature list.\n",
    "\n",
    "Based on the discussion above, the final feature list would be: close, rtn, ema, rsi, stoch_k, stoch_d, macd, cci, ichi_a, ichi_b, bb_up, bb_down.\n",
    "\n",
    "Our strategy is to predict the UP and DOWN movement of a stock together. Based on experience, this is a better strategy compared to predicting the direction of future return as the performance metric based on this can be misleading. For example, if we build a model that minimises the mean-squared-error, that still doesn't mean that the direction of the movement can be correct. If the actual movement is 0.1%, then investing based on 0.5% is better compared to -0.1% prediction although the later might have a error value.\n",
    "\n",
    "Now, we first need to create a target dataframe that categorises into 1 and 0: 1 for UP and 0 for DOWN. Then, let us look at the distribution of the values."
   ]
  },
  {
   "cell_type": "code",
   "execution_count": 97,
   "metadata": {},
   "outputs": [
    {
     "data": {
      "image/png": "[encoded data removed]",
      "text/plain": [
       "<Figure size 432x288 with 1 Axes>"
      ]
     },
     "metadata": {
      "needs_background": "light"
     },
     "output_type": "display_data"
    }
   ],
   "source": [
    "# Create target dataframe\n",
    "target = (next_val > 0).astype(int)\n",
    "\n",
    "# Look at the proportion\n",
    "values, counts = np.unique(target.values.reshape(target.shape[0]*target.shape[1]), return_counts=True)\n",
    "plt.bar(values,counts,tick_label=['DOWN','UP'])\n",
    "plt.title('Number of UPs and DOWNs')\n",
    "plt.ylabel('Total number')\n",
    "plt.xlabel('Categories')\n",
    "plt.show()"
   ]
  },
  {
   "cell_type": "markdown",
   "metadata": {},
   "source": [
    "Based on the analysis above, it appears that there are more DOWNs than UPs. Therefore, some balancing is required before sending the data for machine learning. Before going into forecasting section, the final list of dataframes should be defined based on the features list finalised earlier."
   ]
  },
  {
   "cell_type": "markdown",
   "metadata": {},
   "source": [
    "## Prediction"
   ]
  },
  {
   "cell_type": "markdown",
   "metadata": {},
   "source": [
    "##### Pre-processing the data\n",
    "\n",
    "Based on the Data Analysis done above, this section builds an LSTM neural network model for the prediction of the next day stock price moment; whether it is going upward or downward.\n",
    "\n",
    "First, let's split the data to training, validation, and test sets. The training and validation sets will be using during the LSTM network training, while the test set will be used for trading strategy implementation and additional testing of the final model."
   ]
  },
  {
   "cell_type": "code",
   "execution_count": 105,
   "metadata": {},
   "outputs": [],
   "source": [
    "# Train set\n",
    "dfois_train = []\n",
    "for df in dfois:\n",
    "    dfois_train.append(df.iloc[df.index < '2019-03-01'])\n",
    "\n",
    "# Test set\n",
    "dfois_test = []\n",
    "for df in dfois:\n",
    "    dfois_test.append(df.iloc[df.index >= '2019-08-01'])\n",
    "\n",
    "# Validation set\n",
    "dfois_eval = []\n",
    "for df in dfois:\n",
    "    dfois_eval.append(df.iloc[(df.index >= '2019-03-01') & (df.index < '2019-08-01')])"
   ]
  },
  {
   "cell_type": "markdown",
   "metadata": {},
   "source": [
    "Next, let us preprocess the data. Let us normalise all the data to be between 0 and 1. Note that the maximum and minimum is with respect to each ticker in each train dataframe"
   ]
  },
  {
   "cell_type": "code",
   "execution_count": 106,
   "metadata": {},
   "outputs": [],
   "source": [
    "# List of normalisers corresponding to each dataframe\n",
    "nomalisers = []\n",
    "\n",
    "for i, df in enumerate(dfois[:-1]):\n",
    "    # create the normaliser object\n",
    "    nomalisers.append(preprocessing.MinMaxScaler(feature_range=(0,1)))\n",
    "    \n",
    "    # columns and indexes\n",
    "    columns = dfois_train[i].columns\n",
    "    index_train = dfois_train[i].index\n",
    "    index_test = dfois_test[i].index\n",
    "    index_eval = dfois_eval[i].index\n",
    "    \n",
    "    # fit normalise\n",
    "    nomalisers[i].fit(dfois_train[i])\n",
    "    \n",
    "    # trasform\n",
    "    train_data = nomalisers[i].transform(dfois_train[i])\n",
    "    eval_data = nomalisers[i].transform(dfois_eval[i])\n",
    "    test_data = nomalisers[i].transform(dfois_test[i])\n",
    "    \n",
    "    # replace list\n",
    "    dfois_train[i] = pd.DataFrame(train_data, columns=columns, index=index_train)\n",
    "    dfois_eval[i] = pd.DataFrame(eval_data, columns=columns, index=index_eval)\n",
    "    dfois_test[i] = pd.DataFrame(test_data, columns=columns, index=index_test)"
   ]
  },
  {
   "cell_type": "markdown",
   "metadata": {},
   "source": [
    "Now, let us scale the data to have mean 0 and unit variance. This scaling is done by training the scaler using data of entire normalised training dataframe. This will be used to transform the training, validation, and test sets."
   ]
  },
  {
   "cell_type": "code",
   "execution_count": 107,
   "metadata": {},
   "outputs": [],
   "source": [
    "# List of scalers corresponding to each dataframe\n",
    "scalers = []\n",
    "\n",
    "# Standardise the data by fitting the train set\n",
    "for i, _ in enumerate(dfois[:-1]):\n",
    "    # create the Scaler object\n",
    "    scalers.append(preprocessing.StandardScaler())\n",
    "    \n",
    "    # columns and indexes\n",
    "    columns = dfois_train[i].columns\n",
    "    index_train = dfois_train[i].index\n",
    "    index_test = dfois_test[i].index\n",
    "    index_eval = dfois_eval[i].index\n",
    "    \n",
    "    # fit scale\n",
    "    flat_arr = dfois_train[i].values.reshape(dfois_train[i].shape[0]*dfois_train[i].shape[1],1)\n",
    "    scalers[i].fit(np.tile(flat_arr, dfois_train[i].shape[1]))\n",
    "    \n",
    "    # trasform\n",
    "    train_data = scalers[i].transform(dfois_train[i])\n",
    "    eval_data = scalers[i].transform(dfois_eval[i])\n",
    "    test_data = scalers[i].transform(dfois_test[i])\n",
    "    \n",
    "    # replace list\n",
    "    dfois_train[i] = pd.DataFrame(train_data, columns=columns, index=index_train)\n",
    "    dfois_eval[i] = pd.DataFrame(eval_data, columns=columns, index=index_eval)\n",
    "    dfois_test[i] = pd.DataFrame(test_data, columns=columns, index=index_test)"
   ]
  },
  {
   "cell_type": "markdown",
   "metadata": {},
   "source": [
    "##### 60 Time Steps"
   ]
  },
  {
   "cell_type": "markdown",
   "metadata": {},
   "source": [
    "Let's sequence the data. We are going to use the past 60 days of data for the next day prediction, we need to append the past 60 days worth data and append them in an array. We first write a function and execute onto all three sets of data."
   ]
  },
  {
   "cell_type": "code",
   "execution_count": 111,
   "metadata": {},
   "outputs": [],
   "source": [
    "from collections import deque\n",
    "import random\n",
    "\n",
    "# Look at the past 60 days\n",
    "SEQ_LEN = 60\n",
    "\n",
    "def sequence_data(df_list, shuffle=True):\n",
    "    # list containing the data\n",
    "    sequential_data = []\n",
    "\n",
    "    for ticker in close_val.columns:\n",
    "        # initialise dataframe\n",
    "        df_ticker = pd.DataFrame()\n",
    "\n",
    "        # concatenate the dataframes\n",
    "        for df in df_list:\n",
    "            df_ticker = pd.concat([df_ticker, df[ticker]], axis=1)\n",
    "\n",
    "        prev_days = deque(maxlen=SEQ_LEN)\n",
    "        # for values in every row\n",
    "        for i in df_ticker.values: \n",
    "            # remove the targets\n",
    "            prev_days.append([n for n in i[:-1]])  \n",
    "            # append when sequence length is reached\n",
    "            if len(prev_days) == SEQ_LEN: \n",
    "                sequential_data.append([np.array(prev_days), i[-1]])\n",
    "                \n",
    "        # shuffle - we do not need to do this for test set\n",
    "        if shuffle == True:\n",
    "            random.shuffle(sequential_data)\n",
    "\n",
    "    return sequential_data"
   ]
  },
  {
   "cell_type": "code",
   "execution_count": 112,
   "metadata": {},
   "outputs": [
    {
     "name": "stderr",
     "output_type": "stream",
     "text": [
      "/home/nielit/anaconda3/lib/python3.7/site-packages/ipykernel_launcher.py:17: FutureWarning: Sorting because non-concatenation axis is not aligned. A future version\n",
      "of pandas will change to not sort by default.\n",
      "\n",
      "To accept the future behavior, pass 'sort=False'.\n",
      "\n",
      "To retain the current behavior and silence the warning, pass 'sort=True'.\n",
      "\n"
     ]
    },
    {
     "name": "stdout",
     "output_type": "stream",
     "text": [
      "Training data length: 42864\n",
      "Validation data length: 7896\n",
      "Testing data length: 7708\n"
     ]
    }
   ],
   "source": [
    "sequential_data_train = sequence_data(dfois_train)\n",
    "sequential_data_eval = sequence_data(dfois_eval)\n",
    "sequential_data_test = sequence_data(dfois_test, shuffle=False) # do not shuffle just this one\n",
    "\n",
    "# Print the length\n",
    "print('Training data length: {}'.format(len(sequential_data_train)))\n",
    "print('Validation data length: {}'.format(len(sequential_data_eval)))\n",
    "print('Testing data length: {}'.format(len(sequential_data_test)))"
   ]
  }
 ],
 "metadata": {
  "kernelspec": {
   "display_name": "Python 3",
   "language": "python",
   "name": "python3"
  },
  "language_info": {
   "codemirror_mode": {
    "name": "ipython",
    "version": 3
   },
   "file_extension": ".py",
   "mimetype": "text/x-python",
   "name": "python",
   "nbconvert_exporter": "python",
   "pygments_lexer": "ipython3",
   "version": "3.7.0"
  }
 },
 "nbformat": 4,
 "nbformat_minor": 4
}
