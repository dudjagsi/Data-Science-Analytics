{
 "cells": [
  {
   "cell_type": "markdown",
   "metadata": {},
   "source": [
    "## Data Acquisition"
   ]
  },
  {
   "cell_type": "markdown",
   "metadata": {},
   "source": [
    "Install the following necessary packages"
   ]
  },
  {
   "cell_type": "code",
   "execution_count": 1,
   "metadata": {},
   "outputs": [],
   "source": [
    "\n",
    "#pip install pandas\n",
    "#pip install numpy\n",
    "#pip install scipy\n",
    "#pip install yahoo_finance_api2\n",
    "#pip install pandas-datareader\n",
    "#pip install ta\n",
    "#pip install seaborn\n",
    "#pip install sklearn\n",
    "#conda install tensorflow\n"
   ]
  },
  {
   "cell_type": "code",
   "execution_count": 2,
   "metadata": {},
   "outputs": [
    {
     "name": "stdout",
     "output_type": "stream",
     "text": [
      "The history saving thread hit an unexpected error (OperationalError('attempt to write a readonly database')).History will not be written to the database.\n"
     ]
    },
    {
     "data": {
      "text/html": [
       "<div>\n",
       "<style scoped>\n",
       "    .dataframe tbody tr th:only-of-type {\n",
       "        vertical-align: middle;\n",
       "    }\n",
       "\n",
       "    .dataframe tbody tr th {\n",
       "        vertical-align: top;\n",
       "    }\n",
       "\n",
       "    .dataframe thead th {\n",
       "        text-align: right;\n",
       "    }\n",
       "</style>\n",
       "<table border=\"1\" class=\"dataframe\">\n",
       "  <thead>\n",
       "    <tr style=\"text-align: right;\">\n",
       "      <th></th>\n",
       "      <th>ticker</th>\n",
       "    </tr>\n",
       "  </thead>\n",
       "  <tbody>\n",
       "    <tr>\n",
       "      <th>0</th>\n",
       "      <td>RELIANCE.NS</td>\n",
       "    </tr>\n",
       "    <tr>\n",
       "      <th>1</th>\n",
       "      <td>RELIANCE.BO</td>\n",
       "    </tr>\n",
       "    <tr>\n",
       "      <th>2</th>\n",
       "      <td>TCS.NS</td>\n",
       "    </tr>\n",
       "    <tr>\n",
       "      <th>3</th>\n",
       "      <td>TCS.BO</td>\n",
       "    </tr>\n",
       "    <tr>\n",
       "      <th>4</th>\n",
       "      <td>HDFCBANK.NS</td>\n",
       "    </tr>\n",
       "  </tbody>\n",
       "</table>\n",
       "</div>"
      ],
      "text/plain": [
       "        ticker\n",
       "0  RELIANCE.NS\n",
       "1  RELIANCE.BO\n",
       "2       TCS.NS\n",
       "3       TCS.BO\n",
       "4  HDFCBANK.NS"
      ]
     },
     "execution_count": 2,
     "metadata": {},
     "output_type": "execute_result"
    }
   ],
   "source": [
    "import pandas as pd\n",
    "import numpy as np\n",
    "\n",
    "# Importing tickers/Symbols field from the scrapped stockdata\n",
    "\n",
    "df = pd.read_csv('/home/nielit/Desktop/datasample.csv',header=None)\n",
    "df.columns=[\"ticker\"]\n",
    "df.head()"
   ]
  },
  {
   "cell_type": "code",
   "execution_count": 3,
   "metadata": {},
   "outputs": [
    {
     "data": {
      "text/plain": [
       "1981"
      ]
     },
     "execution_count": 3,
     "metadata": {},
     "output_type": "execute_result"
    }
   ],
   "source": [
    "len(df.ticker)"
   ]
  },
  {
   "cell_type": "code",
   "execution_count": 4,
   "metadata": {},
   "outputs": [
    {
     "data": {
      "text/plain": [
       "1980"
      ]
     },
     "execution_count": 4,
     "metadata": {},
     "output_type": "execute_result"
    }
   ],
   "source": [
    "len(df.ticker.unique())"
   ]
  },
  {
   "cell_type": "code",
   "execution_count": 5,
   "metadata": {},
   "outputs": [
    {
     "data": {
      "text/html": [
       "<div>\n",
       "<style scoped>\n",
       "    .dataframe tbody tr th:only-of-type {\n",
       "        vertical-align: middle;\n",
       "    }\n",
       "\n",
       "    .dataframe tbody tr th {\n",
       "        vertical-align: top;\n",
       "    }\n",
       "\n",
       "    .dataframe thead th {\n",
       "        text-align: right;\n",
       "    }\n",
       "</style>\n",
       "<table border=\"1\" class=\"dataframe\">\n",
       "  <thead>\n",
       "    <tr style=\"text-align: right;\">\n",
       "      <th></th>\n",
       "      <th>ticker</th>\n",
       "    </tr>\n",
       "  </thead>\n",
       "  <tbody>\n",
       "    <tr>\n",
       "      <th>300</th>\n",
       "      <td>JINDALSTEL.BO</td>\n",
       "    </tr>\n",
       "  </tbody>\n",
       "</table>\n",
       "</div>"
      ],
      "text/plain": [
       "            ticker\n",
       "300  JINDALSTEL.BO"
      ]
     },
     "execution_count": 5,
     "metadata": {},
     "output_type": "execute_result"
    }
   ],
   "source": [
    "# Check for duplicate values\n",
    "\n",
    "df_dup = df[df.duplicated()]\n",
    "df_dup"
   ]
  },
  {
   "cell_type": "code",
   "execution_count": 6,
   "metadata": {},
   "outputs": [],
   "source": [
    "# Drop the duplicate values\n",
    "\n",
    "df = df.drop(df.index[300])"
   ]
  },
  {
   "cell_type": "code",
   "execution_count": 7,
   "metadata": {},
   "outputs": [],
   "source": [
    "tic = list(df.ticker)"
   ]
  },
  {
   "cell_type": "code",
   "execution_count": 8,
   "metadata": {},
   "outputs": [],
   "source": [
    "# Import necessary packages\n",
    "\n",
    "import pandas_datareader as pdr\n",
    "from datetime import datetime"
   ]
  },
  {
   "cell_type": "code",
   "execution_count": 9,
   "metadata": {},
   "outputs": [],
   "source": [
    "from tqdm import tqdm"
   ]
  },
  {
   "cell_type": "code",
   "execution_count": 10,
   "metadata": {},
   "outputs": [
    {
     "name": "stderr",
     "output_type": "stream",
     "text": [
      "100%|██████████| 1980/1980 [57:10<00:00,  1.24s/it] \n"
     ]
    }
   ],
   "source": [
    "# Collecting the stock market data from open source yahoo finance API for the following stock tickers for past 2 years\n",
    "\n",
    "data = list()\n",
    "for i in tqdm(tic):\n",
    "    try:\n",
    "        data.append(pdr.get_data_yahoo(symbols=i, start=datetime(2018, 1, 2), end=datetime(2019, 12, 31)))\n",
    "    except:\n",
    "        pass"
   ]
  },
  {
   "cell_type": "code",
   "execution_count": 11,
   "metadata": {},
   "outputs": [],
   "source": [
    "for i in range(len(data)):\n",
    "    \n",
    "    data[i]['Symbol'] = tic[i]"
   ]
  },
  {
   "cell_type": "code",
   "execution_count": 12,
   "metadata": {},
   "outputs": [],
   "source": [
    "df = pd.DataFrame(data[0])\n",
    "\n",
    "for i in np.arange(1,len(data)):\n",
    "    df = df.append(data[i])"
   ]
  },
  {
   "cell_type": "code",
   "execution_count": 13,
   "metadata": {},
   "outputs": [
    {
     "data": {
      "text/plain": [
       "High         0\n",
       "Low          0\n",
       "Open         0\n",
       "Close        0\n",
       "Volume       0\n",
       "Adj Close    0\n",
       "Symbol       0\n",
       "dtype: int64"
      ]
     },
     "execution_count": 13,
     "metadata": {},
     "output_type": "execute_result"
    }
   ],
   "source": [
    "df.isnull().sum()"
   ]
  },
  {
   "cell_type": "markdown",
   "metadata": {},
   "source": [
    "Our required dataframe df looks something like this.."
   ]
  },
  {
   "cell_type": "code",
   "execution_count": 14,
   "metadata": {},
   "outputs": [
    {
     "data": {
      "text/html": [
       "<div>\n",
       "<style scoped>\n",
       "    .dataframe tbody tr th:only-of-type {\n",
       "        vertical-align: middle;\n",
       "    }\n",
       "\n",
       "    .dataframe tbody tr th {\n",
       "        vertical-align: top;\n",
       "    }\n",
       "\n",
       "    .dataframe thead th {\n",
       "        text-align: right;\n",
       "    }\n",
       "</style>\n",
       "<table border=\"1\" class=\"dataframe\">\n",
       "  <thead>\n",
       "    <tr style=\"text-align: right;\">\n",
       "      <th></th>\n",
       "      <th>High</th>\n",
       "      <th>Low</th>\n",
       "      <th>Open</th>\n",
       "      <th>Close</th>\n",
       "      <th>Volume</th>\n",
       "      <th>Adj Close</th>\n",
       "      <th>Symbol</th>\n",
       "    </tr>\n",
       "    <tr>\n",
       "      <th>Date</th>\n",
       "      <th></th>\n",
       "      <th></th>\n",
       "      <th></th>\n",
       "      <th></th>\n",
       "      <th></th>\n",
       "      <th></th>\n",
       "      <th></th>\n",
       "    </tr>\n",
       "  </thead>\n",
       "  <tbody>\n",
       "    <tr>\n",
       "      <th>2018-01-02</th>\n",
       "      <td>919.549988</td>\n",
       "      <td>906.400024</td>\n",
       "      <td>913.000000</td>\n",
       "      <td>911.150024</td>\n",
       "      <td>4342815.0</td>\n",
       "      <td>900.578369</td>\n",
       "      <td>RELIANCE.NS</td>\n",
       "    </tr>\n",
       "    <tr>\n",
       "      <th>2018-01-03</th>\n",
       "      <td>926.000000</td>\n",
       "      <td>913.049988</td>\n",
       "      <td>925.000000</td>\n",
       "      <td>914.799988</td>\n",
       "      <td>6175312.0</td>\n",
       "      <td>904.185974</td>\n",
       "      <td>RELIANCE.NS</td>\n",
       "    </tr>\n",
       "    <tr>\n",
       "      <th>2018-01-04</th>\n",
       "      <td>921.799988</td>\n",
       "      <td>915.700012</td>\n",
       "      <td>918.150024</td>\n",
       "      <td>920.299988</td>\n",
       "      <td>4118581.0</td>\n",
       "      <td>909.622131</td>\n",
       "      <td>RELIANCE.NS</td>\n",
       "    </tr>\n",
       "    <tr>\n",
       "      <th>2018-01-05</th>\n",
       "      <td>926.900024</td>\n",
       "      <td>920.250000</td>\n",
       "      <td>921.799988</td>\n",
       "      <td>923.250000</td>\n",
       "      <td>3401905.0</td>\n",
       "      <td>912.537903</td>\n",
       "      <td>RELIANCE.NS</td>\n",
       "    </tr>\n",
       "    <tr>\n",
       "      <th>2018-01-08</th>\n",
       "      <td>931.000000</td>\n",
       "      <td>923.500000</td>\n",
       "      <td>926.099976</td>\n",
       "      <td>928.549988</td>\n",
       "      <td>4035417.0</td>\n",
       "      <td>917.776428</td>\n",
       "      <td>RELIANCE.NS</td>\n",
       "    </tr>\n",
       "  </tbody>\n",
       "</table>\n",
       "</div>"
      ],
      "text/plain": [
       "                  High         Low        Open       Close     Volume  \\\n",
       "Date                                                                    \n",
       "2018-01-02  919.549988  906.400024  913.000000  911.150024  4342815.0   \n",
       "2018-01-03  926.000000  913.049988  925.000000  914.799988  6175312.0   \n",
       "2018-01-04  921.799988  915.700012  918.150024  920.299988  4118581.0   \n",
       "2018-01-05  926.900024  920.250000  921.799988  923.250000  3401905.0   \n",
       "2018-01-08  931.000000  923.500000  926.099976  928.549988  4035417.0   \n",
       "\n",
       "             Adj Close       Symbol  \n",
       "Date                                 \n",
       "2018-01-02  900.578369  RELIANCE.NS  \n",
       "2018-01-03  904.185974  RELIANCE.NS  \n",
       "2018-01-04  909.622131  RELIANCE.NS  \n",
       "2018-01-05  912.537903  RELIANCE.NS  \n",
       "2018-01-08  917.776428  RELIANCE.NS  "
      ]
     },
     "execution_count": 14,
     "metadata": {},
     "output_type": "execute_result"
    }
   ],
   "source": [
    "df.head()"
   ]
  },
  {
   "cell_type": "code",
   "execution_count": 15,
   "metadata": {},
   "outputs": [],
   "source": [
    "# Saving the dataframe in local\n",
    "\n",
    "df.to_csv(\"/home/nielit/Desktop/StockData2.csv\")"
   ]
  },
  {
   "cell_type": "code",
   "execution_count": 16,
   "metadata": {},
   "outputs": [],
   "source": [
    "# Loading the dataframe back from local \n",
    "\n",
    "df_stock = pd.read_csv(\"/home/nielit/Desktop/StockData2.csv\")"
   ]
  },
  {
   "cell_type": "code",
   "execution_count": 22,
   "metadata": {},
   "outputs": [
    {
     "name": "stdout",
     "output_type": "stream",
     "text": [
      "<class 'pandas.core.frame.DataFrame'>\n",
      "RangeIndex: 926833 entries, 0 to 926832\n",
      "Data columns (total 8 columns):\n",
      "Date         926833 non-null object\n",
      "High         926833 non-null float64\n",
      "Low          926833 non-null float64\n",
      "Open         926833 non-null float64\n",
      "Close        926833 non-null float64\n",
      "Volume       926833 non-null float64\n",
      "Adj Close    926833 non-null float64\n",
      "Symbol       926833 non-null object\n",
      "dtypes: float64(6), object(2)\n",
      "memory usage: 56.6+ MB\n"
     ]
    }
   ],
   "source": [
    "# The stock data is in the exact format to store in a database\n",
    "\n",
    "df_stock.info()"
   ]
  },
  {
   "cell_type": "markdown",
   "metadata": {},
   "source": [
    "# Using MongoDB as my database"
   ]
  },
  {
   "cell_type": "code",
   "execution_count": 1,
   "metadata": {},
   "outputs": [
    {
     "name": "stdout",
     "output_type": "stream",
     "text": [
      "Connected successfully!!!\n"
     ]
    }
   ],
   "source": [
    "from pymongo import MongoClient \n",
    "from random import randint\n",
    "try: \n",
    "    client_mongo  = MongoClient() \n",
    "    print(\"Connected successfully!!!\") \n",
    "except:   \n",
    "    print(\"Could not connect to MongoDB\") "
   ]
  },
  {
   "cell_type": "code",
   "execution_count": 6,
   "metadata": {},
   "outputs": [],
   "source": [
    "# Creating a database db and collection stock\n",
    "\n",
    "db = client_mongo.db_6\n",
    "collection = db.stock"
   ]
  },
  {
   "cell_type": "markdown",
   "metadata": {},
   "source": [
    "### Importing the dataset into database using MongoClient"
   ]
  },
  {
   "cell_type": "code",
   "execution_count": 25,
   "metadata": {},
   "outputs": [],
   "source": [
    "for i in df_stock.values:\n",
    "    collection.insert_one({\"Date\":i[0],\"High\":i[1],\"Low\":i[2],\"Open\":i[3],\"Close\":i[4],\"Volume\":i[5],\"Adj Close\":i[6],\"Symbol\":i[7]})"
   ]
  },
  {
   "cell_type": "markdown",
   "metadata": {},
   "source": [
    "The stock data is now stored in MongoDB"
   ]
  },
  {
   "cell_type": "markdown",
   "metadata": {},
   "source": [
    "### Exporting the dataset from MongoClient back here"
   ]
  },
  {
   "cell_type": "code",
   "execution_count": 7,
   "metadata": {},
   "outputs": [
    {
     "data": {
      "text/html": [
       "<div>\n",
       "<style scoped>\n",
       "    .dataframe tbody tr th:only-of-type {\n",
       "        vertical-align: middle;\n",
       "    }\n",
       "\n",
       "    .dataframe tbody tr th {\n",
       "        vertical-align: top;\n",
       "    }\n",
       "\n",
       "    .dataframe thead th {\n",
       "        text-align: right;\n",
       "    }\n",
       "</style>\n",
       "<table border=\"1\" class=\"dataframe\">\n",
       "  <thead>\n",
       "    <tr style=\"text-align: right;\">\n",
       "      <th></th>\n",
       "      <th>Adj Close</th>\n",
       "      <th>Close</th>\n",
       "      <th>Date</th>\n",
       "      <th>High</th>\n",
       "      <th>Low</th>\n",
       "      <th>Open</th>\n",
       "      <th>Symbol</th>\n",
       "      <th>Volume</th>\n",
       "      <th>_id</th>\n",
       "    </tr>\n",
       "  </thead>\n",
       "  <tbody>\n",
       "    <tr>\n",
       "      <th>0</th>\n",
       "      <td>900.578369</td>\n",
       "      <td>911.150024</td>\n",
       "      <td>2018-01-02</td>\n",
       "      <td>919.549988</td>\n",
       "      <td>906.400024</td>\n",
       "      <td>913.000000</td>\n",
       "      <td>RELIANCE.NS</td>\n",
       "      <td>4342815.0</td>\n",
       "      <td>5e1cc8bb2e3f9313fcac3063</td>\n",
       "    </tr>\n",
       "    <tr>\n",
       "      <th>1</th>\n",
       "      <td>904.185974</td>\n",
       "      <td>914.799988</td>\n",
       "      <td>2018-01-03</td>\n",
       "      <td>926.000000</td>\n",
       "      <td>913.049988</td>\n",
       "      <td>925.000000</td>\n",
       "      <td>RELIANCE.NS</td>\n",
       "      <td>6175312.0</td>\n",
       "      <td>5e1cc8bb2e3f9313fcac3064</td>\n",
       "    </tr>\n",
       "    <tr>\n",
       "      <th>2</th>\n",
       "      <td>909.622131</td>\n",
       "      <td>920.299988</td>\n",
       "      <td>2018-01-04</td>\n",
       "      <td>921.799988</td>\n",
       "      <td>915.700012</td>\n",
       "      <td>918.150024</td>\n",
       "      <td>RELIANCE.NS</td>\n",
       "      <td>4118581.0</td>\n",
       "      <td>5e1cc8bb2e3f9313fcac3065</td>\n",
       "    </tr>\n",
       "    <tr>\n",
       "      <th>3</th>\n",
       "      <td>912.537903</td>\n",
       "      <td>923.250000</td>\n",
       "      <td>2018-01-05</td>\n",
       "      <td>926.900024</td>\n",
       "      <td>920.250000</td>\n",
       "      <td>921.799988</td>\n",
       "      <td>RELIANCE.NS</td>\n",
       "      <td>3401905.0</td>\n",
       "      <td>5e1cc8bb2e3f9313fcac3066</td>\n",
       "    </tr>\n",
       "    <tr>\n",
       "      <th>4</th>\n",
       "      <td>917.776428</td>\n",
       "      <td>928.549988</td>\n",
       "      <td>2018-01-08</td>\n",
       "      <td>931.000000</td>\n",
       "      <td>923.500000</td>\n",
       "      <td>926.099976</td>\n",
       "      <td>RELIANCE.NS</td>\n",
       "      <td>4035417.0</td>\n",
       "      <td>5e1cc8bb2e3f9313fcac3067</td>\n",
       "    </tr>\n",
       "  </tbody>\n",
       "</table>\n",
       "</div>"
      ],
      "text/plain": [
       "    Adj Close       Close        Date        High         Low        Open  \\\n",
       "0  900.578369  911.150024  2018-01-02  919.549988  906.400024  913.000000   \n",
       "1  904.185974  914.799988  2018-01-03  926.000000  913.049988  925.000000   \n",
       "2  909.622131  920.299988  2018-01-04  921.799988  915.700012  918.150024   \n",
       "3  912.537903  923.250000  2018-01-05  926.900024  920.250000  921.799988   \n",
       "4  917.776428  928.549988  2018-01-08  931.000000  923.500000  926.099976   \n",
       "\n",
       "        Symbol     Volume                       _id  \n",
       "0  RELIANCE.NS  4342815.0  5e1cc8bb2e3f9313fcac3063  \n",
       "1  RELIANCE.NS  6175312.0  5e1cc8bb2e3f9313fcac3064  \n",
       "2  RELIANCE.NS  4118581.0  5e1cc8bb2e3f9313fcac3065  \n",
       "3  RELIANCE.NS  3401905.0  5e1cc8bb2e3f9313fcac3066  \n",
       "4  RELIANCE.NS  4035417.0  5e1cc8bb2e3f9313fcac3067  "
      ]
     },
     "execution_count": 7,
     "metadata": {},
     "output_type": "execute_result"
    }
   ],
   "source": [
    "df = pd.DataFrame(list(db.stock.find()))\n",
    "df.head()"
   ]
  },
  {
   "cell_type": "code",
   "execution_count": 8,
   "metadata": {},
   "outputs": [
    {
     "data": {
      "text/html": [
       "<div>\n",
       "<style scoped>\n",
       "    .dataframe tbody tr th:only-of-type {\n",
       "        vertical-align: middle;\n",
       "    }\n",
       "\n",
       "    .dataframe tbody tr th {\n",
       "        vertical-align: top;\n",
       "    }\n",
       "\n",
       "    .dataframe thead th {\n",
       "        text-align: right;\n",
       "    }\n",
       "</style>\n",
       "<table border=\"1\" class=\"dataframe\">\n",
       "  <thead>\n",
       "    <tr style=\"text-align: right;\">\n",
       "      <th></th>\n",
       "      <th>High</th>\n",
       "      <th>Low</th>\n",
       "      <th>Open</th>\n",
       "      <th>Close</th>\n",
       "      <th>Volume</th>\n",
       "      <th>Adj Close</th>\n",
       "      <th>Symbol</th>\n",
       "    </tr>\n",
       "    <tr>\n",
       "      <th>Date</th>\n",
       "      <th></th>\n",
       "      <th></th>\n",
       "      <th></th>\n",
       "      <th></th>\n",
       "      <th></th>\n",
       "      <th></th>\n",
       "      <th></th>\n",
       "    </tr>\n",
       "  </thead>\n",
       "  <tbody>\n",
       "    <tr>\n",
       "      <th>2018-01-02</th>\n",
       "      <td>919.549988</td>\n",
       "      <td>906.400024</td>\n",
       "      <td>913.000000</td>\n",
       "      <td>911.150024</td>\n",
       "      <td>4342815.0</td>\n",
       "      <td>900.578369</td>\n",
       "      <td>RELIANCE.NS</td>\n",
       "    </tr>\n",
       "    <tr>\n",
       "      <th>2018-01-03</th>\n",
       "      <td>926.000000</td>\n",
       "      <td>913.049988</td>\n",
       "      <td>925.000000</td>\n",
       "      <td>914.799988</td>\n",
       "      <td>6175312.0</td>\n",
       "      <td>904.185974</td>\n",
       "      <td>RELIANCE.NS</td>\n",
       "    </tr>\n",
       "    <tr>\n",
       "      <th>2018-01-04</th>\n",
       "      <td>921.799988</td>\n",
       "      <td>915.700012</td>\n",
       "      <td>918.150024</td>\n",
       "      <td>920.299988</td>\n",
       "      <td>4118581.0</td>\n",
       "      <td>909.622131</td>\n",
       "      <td>RELIANCE.NS</td>\n",
       "    </tr>\n",
       "    <tr>\n",
       "      <th>2018-01-05</th>\n",
       "      <td>926.900024</td>\n",
       "      <td>920.250000</td>\n",
       "      <td>921.799988</td>\n",
       "      <td>923.250000</td>\n",
       "      <td>3401905.0</td>\n",
       "      <td>912.537903</td>\n",
       "      <td>RELIANCE.NS</td>\n",
       "    </tr>\n",
       "    <tr>\n",
       "      <th>2018-01-08</th>\n",
       "      <td>931.000000</td>\n",
       "      <td>923.500000</td>\n",
       "      <td>926.099976</td>\n",
       "      <td>928.549988</td>\n",
       "      <td>4035417.0</td>\n",
       "      <td>917.776428</td>\n",
       "      <td>RELIANCE.NS</td>\n",
       "    </tr>\n",
       "  </tbody>\n",
       "</table>\n",
       "</div>"
      ],
      "text/plain": [
       "                  High         Low        Open       Close     Volume  \\\n",
       "Date                                                                    \n",
       "2018-01-02  919.549988  906.400024  913.000000  911.150024  4342815.0   \n",
       "2018-01-03  926.000000  913.049988  925.000000  914.799988  6175312.0   \n",
       "2018-01-04  921.799988  915.700012  918.150024  920.299988  4118581.0   \n",
       "2018-01-05  926.900024  920.250000  921.799988  923.250000  3401905.0   \n",
       "2018-01-08  931.000000  923.500000  926.099976  928.549988  4035417.0   \n",
       "\n",
       "             Adj Close       Symbol  \n",
       "Date                                 \n",
       "2018-01-02  900.578369  RELIANCE.NS  \n",
       "2018-01-03  904.185974  RELIANCE.NS  \n",
       "2018-01-04  909.622131  RELIANCE.NS  \n",
       "2018-01-05  912.537903  RELIANCE.NS  \n",
       "2018-01-08  917.776428  RELIANCE.NS  "
      ]
     },
     "execution_count": 8,
     "metadata": {},
     "output_type": "execute_result"
    }
   ],
   "source": [
    "# Reformatting the data back into our desired form from MongoDB\n",
    "\n",
    "df = df.drop(['_id'],axis=1)\n",
    "df = df[['Date','High','Low','Open','Close','Volume','Adj Close','Symbol']]\n",
    "df = df.set_index('Date')\n",
    "df.head()"
   ]
  },
  {
   "cell_type": "code",
   "execution_count": 9,
   "metadata": {},
   "outputs": [
    {
     "name": "stdout",
     "output_type": "stream",
     "text": [
      "<class 'pandas.core.frame.DataFrame'>\n",
      "Index: 926833 entries, 2018-01-02 to 2020-01-01\n",
      "Data columns (total 7 columns):\n",
      "High         926833 non-null float64\n",
      "Low          926833 non-null float64\n",
      "Open         926833 non-null float64\n",
      "Close        926833 non-null float64\n",
      "Volume       926833 non-null float64\n",
      "Adj Close    926833 non-null float64\n",
      "Symbol       926833 non-null object\n",
      "dtypes: float64(6), object(1)\n",
      "memory usage: 56.6+ MB\n"
     ]
    }
   ],
   "source": [
    "df.info()"
   ]
  }
 ],
 "metadata": {
  "kernelspec": {
   "display_name": "Python 3",
   "language": "python",
   "name": "python3"
  },
  "language_info": {
   "codemirror_mode": {
    "name": "ipython",
    "version": 3
   },
   "file_extension": ".py",
   "mimetype": "text/x-python",
   "name": "python",
   "nbconvert_exporter": "python",
   "pygments_lexer": "ipython3",
   "version": "3.7.0"
  }
 },
 "nbformat": 4,
 "nbformat_minor": 4
}
